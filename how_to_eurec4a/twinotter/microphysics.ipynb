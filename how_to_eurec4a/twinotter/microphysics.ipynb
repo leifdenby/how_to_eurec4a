{
 "cells": [
  {
   "cell_type": "code",
   "execution_count": 1,
   "id": "faee25c6",
   "metadata": {},
   "outputs": [],
   "source": [
    "%%capture\n",
    "!pip install nb_black worldview_dl tqdm"
   ]
  },
  {
   "cell_type": "code",
   "execution_count": 2,
   "id": "9180ca6e",
   "metadata": {},
   "outputs": [
    {
     "data": {
      "application/javascript": [
       "\n",
       "            setTimeout(function() {\n",
       "                var nbb_cell_id = 2;\n",
       "                var nbb_unformatted_code = \"%load_ext nb_black\";\n",
       "                var nbb_formatted_code = \"%load_ext nb_black\";\n",
       "                var nbb_cells = Jupyter.notebook.get_cells();\n",
       "                for (var i = 0; i < nbb_cells.length; ++i) {\n",
       "                    if (nbb_cells[i].input_prompt_number == nbb_cell_id) {\n",
       "                        if (nbb_cells[i].get_text() == nbb_unformatted_code) {\n",
       "                             nbb_cells[i].set_text(nbb_formatted_code);\n",
       "                        }\n",
       "                        break;\n",
       "                    }\n",
       "                }\n",
       "            }, 500);\n",
       "            "
      ],
      "text/plain": [
       "<IPython.core.display.Javascript object>"
      ]
     },
     "metadata": {},
     "output_type": "display_data"
    }
   ],
   "source": [
    "%load_ext nb_black"
   ]
  },
  {
   "cell_type": "code",
   "execution_count": 3,
   "id": "6c3eb360",
   "metadata": {},
   "outputs": [
    {
     "data": {
      "application/javascript": [
       "\n",
       "            setTimeout(function() {\n",
       "                var nbb_cell_id = 3;\n",
       "                var nbb_unformatted_code = \"from intake import open_catalog\\nimport cartopy.crs as ccrs\\nimport matplotlib.pyplot as plt\\n\\nfrom tqdm.auto import tqdm\\nfrom pathlib import Path\\nimport xarray as xr\\nimport numpy as np\\n\\nimport eurec4a\";\n",
       "                var nbb_formatted_code = \"from intake import open_catalog\\nimport cartopy.crs as ccrs\\nimport matplotlib.pyplot as plt\\n\\nfrom tqdm.auto import tqdm\\nfrom pathlib import Path\\nimport xarray as xr\\nimport numpy as np\\n\\nimport eurec4a\";\n",
       "                var nbb_cells = Jupyter.notebook.get_cells();\n",
       "                for (var i = 0; i < nbb_cells.length; ++i) {\n",
       "                    if (nbb_cells[i].input_prompt_number == nbb_cell_id) {\n",
       "                        if (nbb_cells[i].get_text() == nbb_unformatted_code) {\n",
       "                             nbb_cells[i].set_text(nbb_formatted_code);\n",
       "                        }\n",
       "                        break;\n",
       "                    }\n",
       "                }\n",
       "            }, 500);\n",
       "            "
      ],
      "text/plain": [
       "<IPython.core.display.Javascript object>"
      ]
     },
     "metadata": {},
     "output_type": "display_data"
    }
   ],
   "source": [
    "from intake import open_catalog\n",
    "import cartopy.crs as ccrs\n",
    "import matplotlib.pyplot as plt\n",
    "\n",
    "from tqdm.auto import tqdm\n",
    "from pathlib import Path\n",
    "import xarray as xr\n",
    "import numpy as np\n",
    "\n",
    "import eurec4a"
   ]
  },
  {
   "cell_type": "code",
   "execution_count": 4,
   "id": "ea3b9628",
   "metadata": {},
   "outputs": [
    {
     "data": {
      "application/javascript": [
       "\n",
       "            setTimeout(function() {\n",
       "                var nbb_cell_id = 4;\n",
       "                var nbb_unformatted_code = \"# cat = eurec4a.get_intake_catalog()\\ncat = open_catalog(\\n    \\\"https://raw.githubusercontent.com/leifdenby/eurec4a-intake/twinotter-microphysics/catalog.yml\\\"\\n)\";\n",
       "                var nbb_formatted_code = \"# cat = eurec4a.get_intake_catalog()\\ncat = open_catalog(\\n    \\\"https://raw.githubusercontent.com/leifdenby/eurec4a-intake/twinotter-microphysics/catalog.yml\\\"\\n)\";\n",
       "                var nbb_cells = Jupyter.notebook.get_cells();\n",
       "                for (var i = 0; i < nbb_cells.length; ++i) {\n",
       "                    if (nbb_cells[i].input_prompt_number == nbb_cell_id) {\n",
       "                        if (nbb_cells[i].get_text() == nbb_unformatted_code) {\n",
       "                             nbb_cells[i].set_text(nbb_formatted_code);\n",
       "                        }\n",
       "                        break;\n",
       "                    }\n",
       "                }\n",
       "            }, 500);\n",
       "            "
      ],
      "text/plain": [
       "<IPython.core.display.Javascript object>"
      ]
     },
     "metadata": {},
     "output_type": "display_data"
    }
   ],
   "source": [
    "# cat = eurec4a.get_intake_catalog()\n",
    "cat = open_catalog(\n",
    "    \"https://raw.githubusercontent.com/leifdenby/eurec4a-intake/twinotter-microphysics/catalog.yml\"\n",
    ")"
   ]
  },
  {
   "cell_type": "markdown",
   "id": "ffd6868c",
   "metadata": {},
   "source": [
    "# Exploring the Twin-Otter microphysics data"
   ]
  },
  {
   "cell_type": "code",
   "execution_count": 5,
   "id": "b6f4f365",
   "metadata": {},
   "outputs": [
    {
     "data": {
      "text/plain": [
       "['TO332_1Hz',\n",
       " 'TO334_1Hz',\n",
       " 'TO335_1Hz',\n",
       " 'TO336_1Hz',\n",
       " 'TO337_1Hz',\n",
       " 'TO339_1Hz',\n",
       " 'TO340_1Hz',\n",
       " 'TO341_1Hz',\n",
       " 'TO342_1Hz',\n",
       " 'TO345_1Hz']"
      ]
     },
     "execution_count": 5,
     "metadata": {},
     "output_type": "execute_result"
    },
    {
     "data": {
      "application/javascript": [
       "\n",
       "            setTimeout(function() {\n",
       "                var nbb_cell_id = 5;\n",
       "                var nbb_unformatted_code = \"# list the first 10 available files\\nlist(cat.TO.CDP)[:10]\";\n",
       "                var nbb_formatted_code = \"# list the first 10 available files\\nlist(cat.TO.CDP)[:10]\";\n",
       "                var nbb_cells = Jupyter.notebook.get_cells();\n",
       "                for (var i = 0; i < nbb_cells.length; ++i) {\n",
       "                    if (nbb_cells[i].input_prompt_number == nbb_cell_id) {\n",
       "                        if (nbb_cells[i].get_text() == nbb_unformatted_code) {\n",
       "                             nbb_cells[i].set_text(nbb_formatted_code);\n",
       "                        }\n",
       "                        break;\n",
       "                    }\n",
       "                }\n",
       "            }, 500);\n",
       "            "
      ],
      "text/plain": [
       "<IPython.core.display.Javascript object>"
      ]
     },
     "metadata": {},
     "output_type": "display_data"
    }
   ],
   "source": [
    "# list the first 10 available files\n",
    "list(cat.TO.CDP)[:10]"
   ]
  },
  {
   "cell_type": "code",
   "execution_count": 6,
   "id": "de5fb0ae",
   "metadata": {},
   "outputs": [
    {
     "data": {
      "application/javascript": [
       "\n",
       "            setTimeout(function() {\n",
       "                var nbb_cell_id = 6;\n",
       "                var nbb_unformatted_code = \"# open up data from a single instrument and flight\\n# cat.TO.CDP.TO332_1Hz.to_dask()\";\n",
       "                var nbb_formatted_code = \"# open up data from a single instrument and flight\\n# cat.TO.CDP.TO332_1Hz.to_dask()\";\n",
       "                var nbb_cells = Jupyter.notebook.get_cells();\n",
       "                for (var i = 0; i < nbb_cells.length; ++i) {\n",
       "                    if (nbb_cells[i].input_prompt_number == nbb_cell_id) {\n",
       "                        if (nbb_cells[i].get_text() == nbb_unformatted_code) {\n",
       "                             nbb_cells[i].set_text(nbb_formatted_code);\n",
       "                        }\n",
       "                        break;\n",
       "                    }\n",
       "                }\n",
       "            }, 500);\n",
       "            "
      ],
      "text/plain": [
       "<IPython.core.display.Javascript object>"
      ]
     },
     "metadata": {},
     "output_type": "display_data"
    }
   ],
   "source": [
    "# open up data from a single instrument and flight\n",
    "# cat.TO.CDP.TO332_1Hz.to_dask()"
   ]
  },
  {
   "cell_type": "code",
   "execution_count": 7,
   "id": "0038ffcc",
   "metadata": {},
   "outputs": [
    {
     "data": {
      "application/javascript": [
       "\n",
       "            setTimeout(function() {\n",
       "                var nbb_cell_id = 7;\n",
       "                var nbb_unformatted_code = \"microphysics_instruments = [\\\"CDP\\\", \\\"FFSSP\\\", \\\"2DS\\\", \\\"HVPS\\\"]\";\n",
       "                var nbb_formatted_code = \"microphysics_instruments = [\\\"CDP\\\", \\\"FFSSP\\\", \\\"2DS\\\", \\\"HVPS\\\"]\";\n",
       "                var nbb_cells = Jupyter.notebook.get_cells();\n",
       "                for (var i = 0; i < nbb_cells.length; ++i) {\n",
       "                    if (nbb_cells[i].input_prompt_number == nbb_cell_id) {\n",
       "                        if (nbb_cells[i].get_text() == nbb_unformatted_code) {\n",
       "                             nbb_cells[i].set_text(nbb_formatted_code);\n",
       "                        }\n",
       "                        break;\n",
       "                    }\n",
       "                }\n",
       "            }, 500);\n",
       "            "
      ],
      "text/plain": [
       "<IPython.core.display.Javascript object>"
      ]
     },
     "metadata": {},
     "output_type": "display_data"
    }
   ],
   "source": [
    "microphysics_instruments = [\"CDP\", \"FFSSP\", \"2DS\", \"HVPS\"]"
   ]
  },
  {
   "cell_type": "code",
   "execution_count": 35,
   "id": "0bb8f334",
   "metadata": {},
   "outputs": [
    {
     "data": {
      "text/plain": [
       "dict_keys(['CDP', 'FFSSP', '2DS', 'HVPS'])"
      ]
     },
     "execution_count": 35,
     "metadata": {},
     "output_type": "execute_result"
    },
    {
     "data": {
      "application/javascript": [
       "\n",
       "            setTimeout(function() {\n",
       "                var nbb_cell_id = 35;\n",
       "                var nbb_unformatted_code = \"# pick a flight for which we know there is data for all instruments\\nflight_number = 341\\n\\n\\ndef get_available_dataset_for_flight(\\n    flight_number, instruments=microphysics_instruments\\n):\\n    flight_datasets = {}\\n\\n    for instrument in instruments:\\n        cat_instrument = cat.TO[instrument]\\n        flight_identifier = f\\\"TO{flight_number}_1Hz\\\"\\n        if flight_identifier in cat_instrument:\\n            ds_inst = cat_instrument[flight_identifier].to_dask()\\n            ds_inst[\\\"instrument\\\"] = instrument\\n            flight_datasets[instrument] = ds_inst\\n    return flight_datasets\\n\\n\\nflight_datasets = get_available_dataset_for_flight(flight_number)\\nflight_datasets.keys()\";\n",
       "                var nbb_formatted_code = \"# pick a flight for which we know there is data for all instruments\\nflight_number = 341\\n\\n\\ndef get_available_dataset_for_flight(\\n    flight_number, instruments=microphysics_instruments\\n):\\n    flight_datasets = {}\\n\\n    for instrument in instruments:\\n        cat_instrument = cat.TO[instrument]\\n        flight_identifier = f\\\"TO{flight_number}_1Hz\\\"\\n        if flight_identifier in cat_instrument:\\n            ds_inst = cat_instrument[flight_identifier].to_dask()\\n            ds_inst[\\\"instrument\\\"] = instrument\\n            flight_datasets[instrument] = ds_inst\\n    return flight_datasets\\n\\n\\nflight_datasets = get_available_dataset_for_flight(flight_number)\\nflight_datasets.keys()\";\n",
       "                var nbb_cells = Jupyter.notebook.get_cells();\n",
       "                for (var i = 0; i < nbb_cells.length; ++i) {\n",
       "                    if (nbb_cells[i].input_prompt_number == nbb_cell_id) {\n",
       "                        if (nbb_cells[i].get_text() == nbb_unformatted_code) {\n",
       "                             nbb_cells[i].set_text(nbb_formatted_code);\n",
       "                        }\n",
       "                        break;\n",
       "                    }\n",
       "                }\n",
       "            }, 500);\n",
       "            "
      ],
      "text/plain": [
       "<IPython.core.display.Javascript object>"
      ]
     },
     "metadata": {},
     "output_type": "display_data"
    }
   ],
   "source": [
    "# pick a flight for which we know there is data for all instruments\n",
    "flight_number = 341\n",
    "\n",
    "\n",
    "def get_available_dataset_for_flight(\n",
    "    flight_number, instruments=microphysics_instruments\n",
    "):\n",
    "    flight_datasets = {}\n",
    "\n",
    "    for instrument in instruments:\n",
    "        cat_instrument = cat.TO[instrument]\n",
    "        flight_identifier = f\"TO{flight_number}_1Hz\"\n",
    "        if flight_identifier in cat_instrument:\n",
    "            ds_inst = cat_instrument[flight_identifier].to_dask()\n",
    "            ds_inst[\"instrument\"] = instrument\n",
    "            flight_datasets[instrument] = ds_inst\n",
    "    return flight_datasets\n",
    "\n",
    "\n",
    "flight_datasets = get_available_dataset_for_flight(flight_number)\n",
    "flight_datasets.keys()"
   ]
  },
  {
   "cell_type": "markdown",
   "id": "71672ef0",
   "metadata": {},
   "source": [
    "We can't simply merge the datasets because each instrument covers different droplet size ranges and has a different number of size bins. Let's have a look at what these size bins are instead :)"
   ]
  },
  {
   "cell_type": "code",
   "execution_count": 9,
   "id": "1833887c",
   "metadata": {},
   "outputs": [
    {
     "data": {
      "text/html": [
       "<div><svg style=\"position: absolute; width: 0; height: 0; overflow: hidden\">\n",
       "<defs>\n",
       "<symbol id=\"icon-database\" viewBox=\"0 0 32 32\">\n",
       "<path d=\"M16 0c-8.837 0-16 2.239-16 5v4c0 2.761 7.163 5 16 5s16-2.239 16-5v-4c0-2.761-7.163-5-16-5z\"></path>\n",
       "<path d=\"M16 17c-8.837 0-16-2.239-16-5v6c0 2.761 7.163 5 16 5s16-2.239 16-5v-6c0 2.761-7.163 5-16 5z\"></path>\n",
       "<path d=\"M16 26c-8.837 0-16-2.239-16-5v6c0 2.761 7.163 5 16 5s16-2.239 16-5v-6c0 2.761-7.163 5-16 5z\"></path>\n",
       "</symbol>\n",
       "<symbol id=\"icon-file-text2\" viewBox=\"0 0 32 32\">\n",
       "<path d=\"M28.681 7.159c-0.694-0.947-1.662-2.053-2.724-3.116s-2.169-2.030-3.116-2.724c-1.612-1.182-2.393-1.319-2.841-1.319h-15.5c-1.378 0-2.5 1.121-2.5 2.5v27c0 1.378 1.122 2.5 2.5 2.5h23c1.378 0 2.5-1.122 2.5-2.5v-19.5c0-0.448-0.137-1.23-1.319-2.841zM24.543 5.457c0.959 0.959 1.712 1.825 2.268 2.543h-4.811v-4.811c0.718 0.556 1.584 1.309 2.543 2.268zM28 29.5c0 0.271-0.229 0.5-0.5 0.5h-23c-0.271 0-0.5-0.229-0.5-0.5v-27c0-0.271 0.229-0.5 0.5-0.5 0 0 15.499-0 15.5 0v7c0 0.552 0.448 1 1 1h7v19.5z\"></path>\n",
       "<path d=\"M23 26h-14c-0.552 0-1-0.448-1-1s0.448-1 1-1h14c0.552 0 1 0.448 1 1s-0.448 1-1 1z\"></path>\n",
       "<path d=\"M23 22h-14c-0.552 0-1-0.448-1-1s0.448-1 1-1h14c0.552 0 1 0.448 1 1s-0.448 1-1 1z\"></path>\n",
       "<path d=\"M23 18h-14c-0.552 0-1-0.448-1-1s0.448-1 1-1h14c0.552 0 1 0.448 1 1s-0.448 1-1 1z\"></path>\n",
       "</symbol>\n",
       "</defs>\n",
       "</svg>\n",
       "<style>/* CSS stylesheet for displaying xarray objects in jupyterlab.\n",
       " *\n",
       " */\n",
       "\n",
       ":root {\n",
       "  --xr-font-color0: var(--jp-content-font-color0, rgba(0, 0, 0, 1));\n",
       "  --xr-font-color2: var(--jp-content-font-color2, rgba(0, 0, 0, 0.54));\n",
       "  --xr-font-color3: var(--jp-content-font-color3, rgba(0, 0, 0, 0.38));\n",
       "  --xr-border-color: var(--jp-border-color2, #e0e0e0);\n",
       "  --xr-disabled-color: var(--jp-layout-color3, #bdbdbd);\n",
       "  --xr-background-color: var(--jp-layout-color0, white);\n",
       "  --xr-background-color-row-even: var(--jp-layout-color1, white);\n",
       "  --xr-background-color-row-odd: var(--jp-layout-color2, #eeeeee);\n",
       "}\n",
       "\n",
       "html[theme=dark],\n",
       "body.vscode-dark {\n",
       "  --xr-font-color0: rgba(255, 255, 255, 1);\n",
       "  --xr-font-color2: rgba(255, 255, 255, 0.54);\n",
       "  --xr-font-color3: rgba(255, 255, 255, 0.38);\n",
       "  --xr-border-color: #1F1F1F;\n",
       "  --xr-disabled-color: #515151;\n",
       "  --xr-background-color: #111111;\n",
       "  --xr-background-color-row-even: #111111;\n",
       "  --xr-background-color-row-odd: #313131;\n",
       "}\n",
       "\n",
       ".xr-wrap {\n",
       "  display: block !important;\n",
       "  min-width: 300px;\n",
       "  max-width: 700px;\n",
       "}\n",
       "\n",
       ".xr-text-repr-fallback {\n",
       "  /* fallback to plain text repr when CSS is not injected (untrusted notebook) */\n",
       "  display: none;\n",
       "}\n",
       "\n",
       ".xr-header {\n",
       "  padding-top: 6px;\n",
       "  padding-bottom: 6px;\n",
       "  margin-bottom: 4px;\n",
       "  border-bottom: solid 1px var(--xr-border-color);\n",
       "}\n",
       "\n",
       ".xr-header > div,\n",
       ".xr-header > ul {\n",
       "  display: inline;\n",
       "  margin-top: 0;\n",
       "  margin-bottom: 0;\n",
       "}\n",
       "\n",
       ".xr-obj-type,\n",
       ".xr-array-name {\n",
       "  margin-left: 2px;\n",
       "  margin-right: 10px;\n",
       "}\n",
       "\n",
       ".xr-obj-type {\n",
       "  color: var(--xr-font-color2);\n",
       "}\n",
       "\n",
       ".xr-sections {\n",
       "  padding-left: 0 !important;\n",
       "  display: grid;\n",
       "  grid-template-columns: 150px auto auto 1fr 20px 20px;\n",
       "}\n",
       "\n",
       ".xr-section-item {\n",
       "  display: contents;\n",
       "}\n",
       "\n",
       ".xr-section-item input {\n",
       "  display: none;\n",
       "}\n",
       "\n",
       ".xr-section-item input + label {\n",
       "  color: var(--xr-disabled-color);\n",
       "}\n",
       "\n",
       ".xr-section-item input:enabled + label {\n",
       "  cursor: pointer;\n",
       "  color: var(--xr-font-color2);\n",
       "}\n",
       "\n",
       ".xr-section-item input:enabled + label:hover {\n",
       "  color: var(--xr-font-color0);\n",
       "}\n",
       "\n",
       ".xr-section-summary {\n",
       "  grid-column: 1;\n",
       "  color: var(--xr-font-color2);\n",
       "  font-weight: 500;\n",
       "}\n",
       "\n",
       ".xr-section-summary > span {\n",
       "  display: inline-block;\n",
       "  padding-left: 0.5em;\n",
       "}\n",
       "\n",
       ".xr-section-summary-in:disabled + label {\n",
       "  color: var(--xr-font-color2);\n",
       "}\n",
       "\n",
       ".xr-section-summary-in + label:before {\n",
       "  display: inline-block;\n",
       "  content: '►';\n",
       "  font-size: 11px;\n",
       "  width: 15px;\n",
       "  text-align: center;\n",
       "}\n",
       "\n",
       ".xr-section-summary-in:disabled + label:before {\n",
       "  color: var(--xr-disabled-color);\n",
       "}\n",
       "\n",
       ".xr-section-summary-in:checked + label:before {\n",
       "  content: '▼';\n",
       "}\n",
       "\n",
       ".xr-section-summary-in:checked + label > span {\n",
       "  display: none;\n",
       "}\n",
       "\n",
       ".xr-section-summary,\n",
       ".xr-section-inline-details {\n",
       "  padding-top: 4px;\n",
       "  padding-bottom: 4px;\n",
       "}\n",
       "\n",
       ".xr-section-inline-details {\n",
       "  grid-column: 2 / -1;\n",
       "}\n",
       "\n",
       ".xr-section-details {\n",
       "  display: none;\n",
       "  grid-column: 1 / -1;\n",
       "  margin-bottom: 5px;\n",
       "}\n",
       "\n",
       ".xr-section-summary-in:checked ~ .xr-section-details {\n",
       "  display: contents;\n",
       "}\n",
       "\n",
       ".xr-array-wrap {\n",
       "  grid-column: 1 / -1;\n",
       "  display: grid;\n",
       "  grid-template-columns: 20px auto;\n",
       "}\n",
       "\n",
       ".xr-array-wrap > label {\n",
       "  grid-column: 1;\n",
       "  vertical-align: top;\n",
       "}\n",
       "\n",
       ".xr-preview {\n",
       "  color: var(--xr-font-color3);\n",
       "}\n",
       "\n",
       ".xr-array-preview,\n",
       ".xr-array-data {\n",
       "  padding: 0 5px !important;\n",
       "  grid-column: 2;\n",
       "}\n",
       "\n",
       ".xr-array-data,\n",
       ".xr-array-in:checked ~ .xr-array-preview {\n",
       "  display: none;\n",
       "}\n",
       "\n",
       ".xr-array-in:checked ~ .xr-array-data,\n",
       ".xr-array-preview {\n",
       "  display: inline-block;\n",
       "}\n",
       "\n",
       ".xr-dim-list {\n",
       "  display: inline-block !important;\n",
       "  list-style: none;\n",
       "  padding: 0 !important;\n",
       "  margin: 0;\n",
       "}\n",
       "\n",
       ".xr-dim-list li {\n",
       "  display: inline-block;\n",
       "  padding: 0;\n",
       "  margin: 0;\n",
       "}\n",
       "\n",
       ".xr-dim-list:before {\n",
       "  content: '(';\n",
       "}\n",
       "\n",
       ".xr-dim-list:after {\n",
       "  content: ')';\n",
       "}\n",
       "\n",
       ".xr-dim-list li:not(:last-child):after {\n",
       "  content: ',';\n",
       "  padding-right: 5px;\n",
       "}\n",
       "\n",
       ".xr-has-index {\n",
       "  font-weight: bold;\n",
       "}\n",
       "\n",
       ".xr-var-list,\n",
       ".xr-var-item {\n",
       "  display: contents;\n",
       "}\n",
       "\n",
       ".xr-var-item > div,\n",
       ".xr-var-item label,\n",
       ".xr-var-item > .xr-var-name span {\n",
       "  background-color: var(--xr-background-color-row-even);\n",
       "  margin-bottom: 0;\n",
       "}\n",
       "\n",
       ".xr-var-item > .xr-var-name:hover span {\n",
       "  padding-right: 5px;\n",
       "}\n",
       "\n",
       ".xr-var-list > li:nth-child(odd) > div,\n",
       ".xr-var-list > li:nth-child(odd) > label,\n",
       ".xr-var-list > li:nth-child(odd) > .xr-var-name span {\n",
       "  background-color: var(--xr-background-color-row-odd);\n",
       "}\n",
       "\n",
       ".xr-var-name {\n",
       "  grid-column: 1;\n",
       "}\n",
       "\n",
       ".xr-var-dims {\n",
       "  grid-column: 2;\n",
       "}\n",
       "\n",
       ".xr-var-dtype {\n",
       "  grid-column: 3;\n",
       "  text-align: right;\n",
       "  color: var(--xr-font-color2);\n",
       "}\n",
       "\n",
       ".xr-var-preview {\n",
       "  grid-column: 4;\n",
       "}\n",
       "\n",
       ".xr-var-name,\n",
       ".xr-var-dims,\n",
       ".xr-var-dtype,\n",
       ".xr-preview,\n",
       ".xr-attrs dt {\n",
       "  white-space: nowrap;\n",
       "  overflow: hidden;\n",
       "  text-overflow: ellipsis;\n",
       "  padding-right: 10px;\n",
       "}\n",
       "\n",
       ".xr-var-name:hover,\n",
       ".xr-var-dims:hover,\n",
       ".xr-var-dtype:hover,\n",
       ".xr-attrs dt:hover {\n",
       "  overflow: visible;\n",
       "  width: auto;\n",
       "  z-index: 1;\n",
       "}\n",
       "\n",
       ".xr-var-attrs,\n",
       ".xr-var-data {\n",
       "  display: none;\n",
       "  background-color: var(--xr-background-color) !important;\n",
       "  padding-bottom: 5px !important;\n",
       "}\n",
       "\n",
       ".xr-var-attrs-in:checked ~ .xr-var-attrs,\n",
       ".xr-var-data-in:checked ~ .xr-var-data {\n",
       "  display: block;\n",
       "}\n",
       "\n",
       ".xr-var-data > table {\n",
       "  float: right;\n",
       "}\n",
       "\n",
       ".xr-var-name span,\n",
       ".xr-var-data,\n",
       ".xr-attrs {\n",
       "  padding-left: 25px !important;\n",
       "}\n",
       "\n",
       ".xr-attrs,\n",
       ".xr-var-attrs,\n",
       ".xr-var-data {\n",
       "  grid-column: 1 / -1;\n",
       "}\n",
       "\n",
       "dl.xr-attrs {\n",
       "  padding: 0;\n",
       "  margin: 0;\n",
       "  display: grid;\n",
       "  grid-template-columns: 125px auto;\n",
       "}\n",
       "\n",
       ".xr-attrs dt,\n",
       ".xr-attrs dd {\n",
       "  padding: 0;\n",
       "  margin: 0;\n",
       "  float: left;\n",
       "  padding-right: 10px;\n",
       "  width: auto;\n",
       "}\n",
       "\n",
       ".xr-attrs dt {\n",
       "  font-weight: normal;\n",
       "  grid-column: 1;\n",
       "}\n",
       "\n",
       ".xr-attrs dt:hover span {\n",
       "  display: inline-block;\n",
       "  background: var(--xr-background-color);\n",
       "  padding-right: 10px;\n",
       "}\n",
       "\n",
       ".xr-attrs dd {\n",
       "  grid-column: 2;\n",
       "  white-space: pre-wrap;\n",
       "  word-break: break-all;\n",
       "}\n",
       "\n",
       ".xr-icon-database,\n",
       ".xr-icon-file-text2 {\n",
       "  display: inline-block;\n",
       "  vertical-align: middle;\n",
       "  width: 1em;\n",
       "  height: 1.5em !important;\n",
       "  stroke-width: 0;\n",
       "  stroke: currentColor;\n",
       "  fill: currentColor;\n",
       "}\n",
       "</style><pre class='xr-text-repr-fallback'>&lt;xarray.Dataset&gt;\n",
       "Dimensions:                                      (time: 12904, index: 30)\n",
       "Coordinates:\n",
       "  * time                                         (time) datetime64[ns] 2020-0...\n",
       "Dimensions without coordinates: index\n",
       "Data variables:\n",
       "    ambient_particle_diameter                    (index) float32 3.0 ... 61.0\n",
       "    measurement_channel_lower_limit              (index) float32 1.631 ... 53.94\n",
       "    measurement_channel_upper_limit              (index) float32 3.435 ... 55.75\n",
       "    ambient_particle_number_per_channel          (time, index) float32 ...\n",
       "    number_of_instrument_counts_per_channel      (time, index) float32 ...\n",
       "    qc_flag_ambient_particle_number_per_channel  (time, index) uint32 ...\n",
       "    instrument                                   &lt;U3 &#x27;CDP&#x27;\n",
       "Attributes: (12/41)\n",
       "    source:                                Manchester Cloud Droplet Probe\n",
       "    instrument_manufacturer:               Droplet Measurement Technologies, USA\n",
       "    instrument_model:                      FFSSP\n",
       "    instrument_serial_number:              Not available\n",
       "    instrument_software:                   pads.exe\n",
       "    instrument_software_version:           Not available\n",
       "    ...                                    ...\n",
       "    location_keywords:                     Not applicable\n",
       "    amf_vocabularies_release:              https://github.com/ncasuk/AMF_CVs/...\n",
       "    history:                               2020-02-05T00:00:00Z - Data collec...\n",
       "    comment:                               Data processing was performed to d...\n",
       "    measurement_technique:                 optical\n",
       "    Conventions:                           CF-1.6, NCAS-AMF-2.0.0</pre><div class='xr-wrap' style='display:none'><div class='xr-header'><div class='xr-obj-type'>xarray.Dataset</div></div><ul class='xr-sections'><li class='xr-section-item'><input id='section-13c0765e-92e9-4355-b8ab-b4c3bb707ccf' class='xr-section-summary-in' type='checkbox' disabled ><label for='section-13c0765e-92e9-4355-b8ab-b4c3bb707ccf' class='xr-section-summary'  title='Expand/collapse section'>Dimensions:</label><div class='xr-section-inline-details'><ul class='xr-dim-list'><li><span class='xr-has-index'>time</span>: 12904</li><li><span>index</span>: 30</li></ul></div><div class='xr-section-details'></div></li><li class='xr-section-item'><input id='section-a19796b4-686a-4c70-b2cc-897a1824ddbb' class='xr-section-summary-in' type='checkbox'  checked><label for='section-a19796b4-686a-4c70-b2cc-897a1824ddbb' class='xr-section-summary' >Coordinates: <span>(1)</span></label><div class='xr-section-inline-details'></div><div class='xr-section-details'><ul class='xr-var-list'><li class='xr-var-item'><div class='xr-var-name'><span class='xr-has-index'>time</span></div><div class='xr-var-dims'>(time)</div><div class='xr-var-dtype'>datetime64[ns]</div><div class='xr-var-preview xr-preview'>2020-02-05T16:25:44.500000 ... 2...</div><input id='attrs-598e2835-c94d-4510-8d45-ee2a61af5667' class='xr-var-attrs-in' type='checkbox' ><label for='attrs-598e2835-c94d-4510-8d45-ee2a61af5667' title='Show/Hide attributes'><svg class='icon xr-icon-file-text2'><use xlink:href='#icon-file-text2'></use></svg></label><input id='data-b4294bea-d8fb-48a6-b98d-488243754e87' class='xr-var-data-in' type='checkbox'><label for='data-b4294bea-d8fb-48a6-b98d-488243754e87' title='Show/Hide data repr'><svg class='icon xr-icon-database'><use xlink:href='#icon-database'></use></svg></label><div class='xr-var-attrs'><dl class='xr-attrs'><dt><span>long_name :</span></dt><dd>Time (seconds since 1970-01-01)</dd><dt><span>axis :</span></dt><dd>T</dd><dt><span>valid_min :</span></dt><dd>1580919944.5</dd><dt><span>valid_max :</span></dt><dd>1580932911.5</dd></dl></div><div class='xr-var-data'><pre>array([&#x27;2020-02-05T16:25:44.500000000&#x27;, &#x27;2020-02-05T16:25:45.500000000&#x27;,\n",
       "       &#x27;2020-02-05T16:25:46.500000000&#x27;, ..., &#x27;2020-02-05T20:01:49.500000000&#x27;,\n",
       "       &#x27;2020-02-05T20:01:50.500000000&#x27;, &#x27;2020-02-05T20:01:51.500000000&#x27;],\n",
       "      dtype=&#x27;datetime64[ns]&#x27;)</pre></div></li></ul></div></li><li class='xr-section-item'><input id='section-ddbbdb25-889b-4377-9558-f407ab2f6bf7' class='xr-section-summary-in' type='checkbox'  checked><label for='section-ddbbdb25-889b-4377-9558-f407ab2f6bf7' class='xr-section-summary' >Data variables: <span>(7)</span></label><div class='xr-section-inline-details'></div><div class='xr-section-details'><ul class='xr-var-list'><li class='xr-var-item'><div class='xr-var-name'><span>ambient_particle_diameter</span></div><div class='xr-var-dims'>(index)</div><div class='xr-var-dtype'>float32</div><div class='xr-var-preview xr-preview'>...</div><input id='attrs-d2788540-15fa-4605-a21c-69d66d2331e4' class='xr-var-attrs-in' type='checkbox' ><label for='attrs-d2788540-15fa-4605-a21c-69d66d2331e4' title='Show/Hide attributes'><svg class='icon xr-icon-file-text2'><use xlink:href='#icon-file-text2'></use></svg></label><input id='data-bf758742-7cbd-4512-9496-4463f67b661f' class='xr-var-data-in' type='checkbox'><label for='data-bf758742-7cbd-4512-9496-4463f67b661f' title='Show/Hide data repr'><svg class='icon xr-icon-database'><use xlink:href='#icon-database'></use></svg></label><div class='xr-var-attrs'><dl class='xr-attrs'><dt><span>long_name :</span></dt><dd>Ambient Particle Diameter</dd><dt><span>units :</span></dt><dd>um</dd><dt><span>valid_min :</span></dt><dd>3.0</dd><dt><span>valid_max :</span></dt><dd>61.0</dd></dl></div><div class='xr-var-data'><pre>array([ 3.,  5.,  7.,  9., 11., 13., 15., 17., 19., 21., 23., 25., 27., 29.,\n",
       "       31., 33., 35., 37., 39., 41., 43., 45., 47., 49., 51., 53., 55., 57.,\n",
       "       59., 61.], dtype=float32)</pre></div></li><li class='xr-var-item'><div class='xr-var-name'><span>measurement_channel_lower_limit</span></div><div class='xr-var-dims'>(index)</div><div class='xr-var-dtype'>float32</div><div class='xr-var-preview xr-preview'>...</div><input id='attrs-41b605fc-e6c6-4e08-a8a3-4e8fd1cdae77' class='xr-var-attrs-in' type='checkbox' ><label for='attrs-41b605fc-e6c6-4e08-a8a3-4e8fd1cdae77' title='Show/Hide attributes'><svg class='icon xr-icon-file-text2'><use xlink:href='#icon-file-text2'></use></svg></label><input id='data-d97b2127-92d8-4f4f-9c0e-c36d971a95f4' class='xr-var-data-in' type='checkbox'><label for='data-d97b2127-92d8-4f4f-9c0e-c36d971a95f4' title='Show/Hide data repr'><svg class='icon xr-icon-database'><use xlink:href='#icon-database'></use></svg></label><div class='xr-var-attrs'><dl class='xr-attrs'><dt><span>long_name :</span></dt><dd>Lower Limit of Spectrometer Measurement Channel</dd><dt><span>units :</span></dt><dd>um</dd><dt><span>valid_min :</span></dt><dd>1.63107</dd><dt><span>valid_max :</span></dt><dd>53.94243</dd></dl></div><div class='xr-var-data'><pre>array([ 1.63107,  3.43491,  5.23875,  7.04259,  8.84643, 10.65027, 12.45411,\n",
       "       14.25795, 16.06179, 17.86563, 19.66947, 21.47331, 23.27715, 25.08099,\n",
       "       26.88483, 28.68867, 30.49251, 32.29635, 34.10019, 35.90403, 37.70787,\n",
       "       39.51171, 41.31555, 43.11939, 44.92323, 46.72707, 48.53091, 50.33475,\n",
       "       52.13859, 53.94243], dtype=float32)</pre></div></li><li class='xr-var-item'><div class='xr-var-name'><span>measurement_channel_upper_limit</span></div><div class='xr-var-dims'>(index)</div><div class='xr-var-dtype'>float32</div><div class='xr-var-preview xr-preview'>...</div><input id='attrs-2925179f-4902-47d7-b372-db9f6ab214e7' class='xr-var-attrs-in' type='checkbox' ><label for='attrs-2925179f-4902-47d7-b372-db9f6ab214e7' title='Show/Hide attributes'><svg class='icon xr-icon-file-text2'><use xlink:href='#icon-file-text2'></use></svg></label><input id='data-60222b51-7ba1-47c9-a0f5-780b752e0b94' class='xr-var-data-in' type='checkbox'><label for='data-60222b51-7ba1-47c9-a0f5-780b752e0b94' title='Show/Hide data repr'><svg class='icon xr-icon-database'><use xlink:href='#icon-database'></use></svg></label><div class='xr-var-attrs'><dl class='xr-attrs'><dt><span>long_name :</span></dt><dd>Upper Limit of Spectrometer Measurement Channel</dd><dt><span>units :</span></dt><dd>um</dd><dt><span>valid_min :</span></dt><dd>3.43491</dd><dt><span>valid_max :</span></dt><dd>55.74627</dd></dl></div><div class='xr-var-data'><pre>array([ 3.43491,  5.23875,  7.04259,  8.84643, 10.65027, 12.45411, 14.25795,\n",
       "       16.06179, 17.86563, 19.66947, 21.47331, 23.27715, 25.08099, 26.88483,\n",
       "       28.68867, 30.49251, 32.29635, 34.10019, 35.90403, 37.70787, 39.51171,\n",
       "       41.31555, 43.11939, 44.92323, 46.72707, 48.53091, 50.33475, 52.13859,\n",
       "       53.94243, 55.74627], dtype=float32)</pre></div></li><li class='xr-var-item'><div class='xr-var-name'><span>ambient_particle_number_per_channel</span></div><div class='xr-var-dims'>(time, index)</div><div class='xr-var-dtype'>float32</div><div class='xr-var-preview xr-preview'>...</div><input id='attrs-80590c94-efdf-4fd1-9fa4-a585ad0bfbec' class='xr-var-attrs-in' type='checkbox' ><label for='attrs-80590c94-efdf-4fd1-9fa4-a585ad0bfbec' title='Show/Hide attributes'><svg class='icon xr-icon-file-text2'><use xlink:href='#icon-file-text2'></use></svg></label><input id='data-5b461c87-0ff2-4c79-9c22-1645d8311308' class='xr-var-data-in' type='checkbox'><label for='data-5b461c87-0ff2-4c79-9c22-1645d8311308' title='Show/Hide data repr'><svg class='icon xr-icon-database'><use xlink:href='#icon-database'></use></svg></label><div class='xr-var-attrs'><dl class='xr-attrs'><dt><span>long_name :</span></dt><dd>Ambient Particle Number per Channel (dN)</dd><dt><span>units :</span></dt><dd>cm-3</dd><dt><span>valid_min :</span></dt><dd>0.0</dd><dt><span>valid_max :</span></dt><dd>21541.3277537792</dd><dt><span>cell_methods :</span></dt><dd>time: mean</dd></dl></div><div class='xr-var-data'><pre>[387120 values with dtype=float32]</pre></div></li><li class='xr-var-item'><div class='xr-var-name'><span>number_of_instrument_counts_per_channel</span></div><div class='xr-var-dims'>(time, index)</div><div class='xr-var-dtype'>float32</div><div class='xr-var-preview xr-preview'>...</div><input id='attrs-cd8c32f0-6def-47d7-8835-6e9da91fe0ea' class='xr-var-attrs-in' type='checkbox' ><label for='attrs-cd8c32f0-6def-47d7-8835-6e9da91fe0ea' title='Show/Hide attributes'><svg class='icon xr-icon-file-text2'><use xlink:href='#icon-file-text2'></use></svg></label><input id='data-2b71f8a9-a80f-43e0-a254-daf8635465f5' class='xr-var-data-in' type='checkbox'><label for='data-2b71f8a9-a80f-43e0-a254-daf8635465f5' title='Show/Hide data repr'><svg class='icon xr-icon-database'><use xlink:href='#icon-database'></use></svg></label><div class='xr-var-attrs'><dl class='xr-attrs'><dt><span>long_name :</span></dt><dd>Number of Instrument Counts per Channel</dd><dt><span>units :</span></dt><dd>1</dd><dt><span>valid_min :</span></dt><dd>0.0</dd><dt><span>valid_max :</span></dt><dd>0.0</dd><dt><span>cell_methods :</span></dt><dd>time: point</dd></dl></div><div class='xr-var-data'><pre>[387120 values with dtype=float32]</pre></div></li><li class='xr-var-item'><div class='xr-var-name'><span>qc_flag_ambient_particle_number_per_channel</span></div><div class='xr-var-dims'>(time, index)</div><div class='xr-var-dtype'>uint32</div><div class='xr-var-preview xr-preview'>...</div><input id='attrs-9e966b36-8173-4594-ad90-22d5bc514ebb' class='xr-var-attrs-in' type='checkbox' ><label for='attrs-9e966b36-8173-4594-ad90-22d5bc514ebb' title='Show/Hide attributes'><svg class='icon xr-icon-file-text2'><use xlink:href='#icon-file-text2'></use></svg></label><input id='data-9d38f9b9-f02a-4265-8088-6851cb1d1471' class='xr-var-data-in' type='checkbox'><label for='data-9d38f9b9-f02a-4265-8088-6851cb1d1471' title='Show/Hide data repr'><svg class='icon xr-icon-database'><use xlink:href='#icon-database'></use></svg></label><div class='xr-var-attrs'><dl class='xr-attrs'><dt><span>long_name :</span></dt><dd>Data Quality flag: Ambient Particle Number per Channel</dd><dt><span>flag_values :</span></dt><dd>[0 1 2 3]</dd><dt><span>flag_meanings :</span></dt><dd>not_used valid_data reduced_quality_data missing_data</dd></dl></div><div class='xr-var-data'><pre>[387120 values with dtype=uint32]</pre></div></li><li class='xr-var-item'><div class='xr-var-name'><span>instrument</span></div><div class='xr-var-dims'>()</div><div class='xr-var-dtype'>&lt;U3</div><div class='xr-var-preview xr-preview'>&#x27;CDP&#x27;</div><input id='attrs-9cda2a97-311e-4791-bb7c-c8b5a06c0dae' class='xr-var-attrs-in' type='checkbox' disabled><label for='attrs-9cda2a97-311e-4791-bb7c-c8b5a06c0dae' title='Show/Hide attributes'><svg class='icon xr-icon-file-text2'><use xlink:href='#icon-file-text2'></use></svg></label><input id='data-f2ec709f-e861-4992-b305-de201e4371f3' class='xr-var-data-in' type='checkbox'><label for='data-f2ec709f-e861-4992-b305-de201e4371f3' title='Show/Hide data repr'><svg class='icon xr-icon-database'><use xlink:href='#icon-database'></use></svg></label><div class='xr-var-attrs'><dl class='xr-attrs'></dl></div><div class='xr-var-data'><pre>array(&#x27;CDP&#x27;, dtype=&#x27;&lt;U3&#x27;)</pre></div></li></ul></div></li><li class='xr-section-item'><input id='section-cc3ccea2-1ff9-498e-bcd7-391fe1098bd2' class='xr-section-summary-in' type='checkbox'  ><label for='section-cc3ccea2-1ff9-498e-bcd7-391fe1098bd2' class='xr-section-summary' >Attributes: <span>(41)</span></label><div class='xr-section-inline-details'></div><div class='xr-section-details'><dl class='xr-attrs'><dt><span>source :</span></dt><dd>Manchester Cloud Droplet Probe</dd><dt><span>instrument_manufacturer :</span></dt><dd>Droplet Measurement Technologies, USA</dd><dt><span>instrument_model :</span></dt><dd>FFSSP</dd><dt><span>instrument_serial_number :</span></dt><dd>Not available</dd><dt><span>instrument_software :</span></dt><dd>pads.exe</dd><dt><span>instrument_software_version :</span></dt><dd>Not available</dd><dt><span>creator_name :</span></dt><dd>Gary Lloyd</dd><dt><span>creator_email :</span></dt><dd>gary.lloyd@manchester.ac.uk</dd><dt><span>url :</span></dt><dd>https://orcid.org/0000-0003-2353-0891</dd><dt><span>institution :</span></dt><dd>University of Manchester</dd><dt><span>processing_software_url :</span></dt><dd>https://www.dropletmeasurement.com/presentation/particle-analysis-and-display-system-pads-training/</dd><dt><span>processing_software_version :</span></dt><dd>pads.exe</dd><dt><span>calibration_sensitivity :</span></dt><dd>The instrument counting uncertainty for each time and size bin is given by (100% / N^(1/2)), where N is the number of counts in the bin.</dd><dt><span>calibration_certification_date :</span></dt><dd>not applicable</dd><dt><span>calibration_certification_url :</span></dt><dd>not applicable</dd><dt><span>sampling_interval :</span></dt><dd>1 second</dd><dt><span>averaging_interval :</span></dt><dd>1 second</dd><dt><span>product_version :</span></dt><dd>v1.0</dd><dt><span>processing_level :</span></dt><dd>1</dd><dt><span>last_revised_date :</span></dt><dd>2021-02-15T12:53:10</dd><dt><span>project :</span></dt><dd>Elucidating the Role of Clouds-Circulation Coupling in Climate (EUREC4A)</dd><dt><span>project_principal_investigator :</span></dt><dd>Alan Blyth</dd><dt><span>project_principal_investigator_email :</span></dt><dd>a.m.blyth@leeds.ac.uk</dd><dt><span>project_principal_investigator_url :</span></dt><dd>https://orcid.org/0000-0001-7115-2587</dd><dt><span>licence :</span></dt><dd>Data usage licence - UK Government Open Licence agreement: http://www.nationalarchives.gov.uk/doc/open-government-licence</dd><dt><span>acknowledgement :</span></dt><dd>Please contact the source providor</dd><dt><span>platform :</span></dt><dd>bas twin otter</dd><dt><span>platform_type :</span></dt><dd>mobile</dd><dt><span>deployment_mode :</span></dt><dd>air</dd><dt><span>title :</span></dt><dd>In situ measurement of particle size distributions from the BAS Twin Otter research aircraft.</dd><dt><span>featureType :</span></dt><dd>timeSeries</dd><dt><span>time_coverage_start :</span></dt><dd>2020-02-05T00:00:00</dd><dt><span>time_coverage_end :</span></dt><dd>2020-02-05T20:01:51</dd><dt><span>geospatial_bounds :</span></dt><dd>13.08N -59.49E, 13.72N -58.02E</dd><dt><span>platform_altitude :</span></dt><dd>Not applicable</dd><dt><span>location_keywords :</span></dt><dd>Not applicable</dd><dt><span>amf_vocabularies_release :</span></dt><dd>https://github.com/ncasuk/AMF_CVs/releases/tag/v2.0.0</dd><dt><span>history :</span></dt><dd>2020-02-05T00:00:00Z - Data collected.</dd><dt><span>comment :</span></dt><dd>Data processing was performed to derive size segregated number concentrations. The instrument counting uncertainty for each time and size bin is given by (100% / N^(1/2)), where N is the number of counts in the bin.</dd><dt><span>measurement_technique :</span></dt><dd>optical</dd><dt><span>Conventions :</span></dt><dd>CF-1.6, NCAS-AMF-2.0.0</dd></dl></div></li></ul></div></div>"
      ],
      "text/plain": [
       "<xarray.Dataset>\n",
       "Dimensions:                                      (time: 12904, index: 30)\n",
       "Coordinates:\n",
       "  * time                                         (time) datetime64[ns] 2020-0...\n",
       "Dimensions without coordinates: index\n",
       "Data variables:\n",
       "    ambient_particle_diameter                    (index) float32 ...\n",
       "    measurement_channel_lower_limit              (index) float32 ...\n",
       "    measurement_channel_upper_limit              (index) float32 ...\n",
       "    ambient_particle_number_per_channel          (time, index) float32 ...\n",
       "    number_of_instrument_counts_per_channel      (time, index) float32 ...\n",
       "    qc_flag_ambient_particle_number_per_channel  (time, index) uint32 ...\n",
       "    instrument                                   <U3 'CDP'\n",
       "Attributes: (12/41)\n",
       "    source:                                Manchester Cloud Droplet Probe\n",
       "    instrument_manufacturer:               Droplet Measurement Technologies, USA\n",
       "    instrument_model:                      FFSSP\n",
       "    instrument_serial_number:              Not available\n",
       "    instrument_software:                   pads.exe\n",
       "    instrument_software_version:           Not available\n",
       "    ...                                    ...\n",
       "    location_keywords:                     Not applicable\n",
       "    amf_vocabularies_release:              https://github.com/ncasuk/AMF_CVs/...\n",
       "    history:                               2020-02-05T00:00:00Z - Data collec...\n",
       "    comment:                               Data processing was performed to d...\n",
       "    measurement_technique:                 optical\n",
       "    Conventions:                           CF-1.6, NCAS-AMF-2.0.0"
      ]
     },
     "execution_count": 9,
     "metadata": {},
     "output_type": "execute_result"
    },
    {
     "data": {
      "application/javascript": [
       "\n",
       "            setTimeout(function() {\n",
       "                var nbb_cell_id = 9;\n",
       "                var nbb_unformatted_code = \"flight_datasets[\\\"CDP\\\"]\";\n",
       "                var nbb_formatted_code = \"flight_datasets[\\\"CDP\\\"]\";\n",
       "                var nbb_cells = Jupyter.notebook.get_cells();\n",
       "                for (var i = 0; i < nbb_cells.length; ++i) {\n",
       "                    if (nbb_cells[i].input_prompt_number == nbb_cell_id) {\n",
       "                        if (nbb_cells[i].get_text() == nbb_unformatted_code) {\n",
       "                             nbb_cells[i].set_text(nbb_formatted_code);\n",
       "                        }\n",
       "                        break;\n",
       "                    }\n",
       "                }\n",
       "            }, 500);\n",
       "            "
      ],
      "text/plain": [
       "<IPython.core.display.Javascript object>"
      ]
     },
     "metadata": {},
     "output_type": "display_data"
    }
   ],
   "source": [
    "flight_datasets[\"CDP\"]"
   ]
  },
  {
   "cell_type": "code",
   "execution_count": 10,
   "id": "bffbd9fe",
   "metadata": {},
   "outputs": [
    {
     "data": {
      "text/plain": [
       "(0.1, 32201.35714481636)"
      ]
     },
     "execution_count": 10,
     "metadata": {},
     "output_type": "execute_result"
    },
    {
     "data": {
      "image/png": "[encoded data removed]",
      "text/plain": [
       "<Figure size 720x288 with 1 Axes>"
      ]
     },
     "metadata": {
      "needs_background": "light"
     },
     "output_type": "display_data"
    },
    {
     "data": {
      "application/javascript": [
       "\n",
       "            setTimeout(function() {\n",
       "                var nbb_cell_id = 10;\n",
       "                var nbb_unformatted_code = \"fig, ax = plt.subplots(figsize=(10, 4))\\n\\nax.set_xscale(\\\"log\\\")\\n\\nfor i, instrument in enumerate(microphysics_instruments):\\n    if not instrument in flight_datasets:\\n        pass\\n    ds_inst = flight_datasets[instrument]\\n\\n    da_bin_minsize = ds_inst.measurement_channel_lower_limit\\n    da_bin_maxsize = ds_inst.measurement_channel_upper_limit\\n\\n    assert da_bin_minsize.units == \\\"um\\\"\\n    da_bin_center = 0.5 * (da_bin_minsize + da_bin_maxsize)\\n    da_bin_width = da_bin_maxsize - da_bin_minsize\\n\\n    ax.errorbar(\\n        x=da_bin_center,\\n        y=i * np.ones_like(da_bin_center),\\n        xerr=da_bin_width,\\n        label=instrument,\\n        capsize=10,\\n    )\\n\\nax.set_yticks(range(len(microphysics_instruments)))\\nax.set_yticklabels(microphysics_instruments)\\nax.set_xlabel(f\\\"droplet size [um]\\\")\\nax.set_xlim(0.1, None)\";\n",
       "                var nbb_formatted_code = \"fig, ax = plt.subplots(figsize=(10, 4))\\n\\nax.set_xscale(\\\"log\\\")\\n\\nfor i, instrument in enumerate(microphysics_instruments):\\n    if not instrument in flight_datasets:\\n        pass\\n    ds_inst = flight_datasets[instrument]\\n\\n    da_bin_minsize = ds_inst.measurement_channel_lower_limit\\n    da_bin_maxsize = ds_inst.measurement_channel_upper_limit\\n\\n    assert da_bin_minsize.units == \\\"um\\\"\\n    da_bin_center = 0.5 * (da_bin_minsize + da_bin_maxsize)\\n    da_bin_width = da_bin_maxsize - da_bin_minsize\\n\\n    ax.errorbar(\\n        x=da_bin_center,\\n        y=i * np.ones_like(da_bin_center),\\n        xerr=da_bin_width,\\n        label=instrument,\\n        capsize=10,\\n    )\\n\\nax.set_yticks(range(len(microphysics_instruments)))\\nax.set_yticklabels(microphysics_instruments)\\nax.set_xlabel(f\\\"droplet size [um]\\\")\\nax.set_xlim(0.1, None)\";\n",
       "                var nbb_cells = Jupyter.notebook.get_cells();\n",
       "                for (var i = 0; i < nbb_cells.length; ++i) {\n",
       "                    if (nbb_cells[i].input_prompt_number == nbb_cell_id) {\n",
       "                        if (nbb_cells[i].get_text() == nbb_unformatted_code) {\n",
       "                             nbb_cells[i].set_text(nbb_formatted_code);\n",
       "                        }\n",
       "                        break;\n",
       "                    }\n",
       "                }\n",
       "            }, 500);\n",
       "            "
      ],
      "text/plain": [
       "<IPython.core.display.Javascript object>"
      ]
     },
     "metadata": {},
     "output_type": "display_data"
    }
   ],
   "source": [
    "fig, ax = plt.subplots(figsize=(10, 4))\n",
    "\n",
    "ax.set_xscale(\"log\")\n",
    "\n",
    "for i, instrument in enumerate(microphysics_instruments):\n",
    "    if not instrument in flight_datasets:\n",
    "        pass\n",
    "    ds_inst = flight_datasets[instrument]\n",
    "\n",
    "    da_bin_minsize = ds_inst.measurement_channel_lower_limit\n",
    "    da_bin_maxsize = ds_inst.measurement_channel_upper_limit\n",
    "\n",
    "    assert da_bin_minsize.units == \"um\"\n",
    "    da_bin_center = 0.5 * (da_bin_minsize + da_bin_maxsize)\n",
    "    da_bin_width = da_bin_maxsize - da_bin_minsize\n",
    "\n",
    "    ax.errorbar(\n",
    "        x=da_bin_center,\n",
    "        y=i * np.ones_like(da_bin_center),\n",
    "        xerr=da_bin_width,\n",
    "        label=instrument,\n",
    "        capsize=10,\n",
    "    )\n",
    "\n",
    "ax.set_yticks(range(len(microphysics_instruments)))\n",
    "ax.set_yticklabels(microphysics_instruments)\n",
    "ax.set_xlabel(f\"droplet size [um]\")\n",
    "ax.set_xlim(0.1, None)"
   ]
  },
  {
   "cell_type": "markdown",
   "id": "30e4d004",
   "metadata": {},
   "source": [
    "Let's next have a look at plotting using the size bins as the x-coordinate instead of the bin-index"
   ]
  },
  {
   "cell_type": "code",
   "execution_count": 11,
   "id": "554c4d87",
   "metadata": {},
   "outputs": [
    {
     "data": {
      "text/plain": [
       "(0.0, 1.2)"
      ]
     },
     "execution_count": 11,
     "metadata": {},
     "output_type": "execute_result"
    },
    {
     "data": {
      "image/png": "[encoded data removed]",
      "text/plain": [
       "<Figure size 720x288 with 2 Axes>"
      ]
     },
     "metadata": {
      "needs_background": "light"
     },
     "output_type": "display_data"
    },
    {
     "data": {
      "application/javascript": [
       "\n",
       "            setTimeout(function() {\n",
       "                var nbb_cell_id = 11;\n",
       "                var nbb_unformatted_code = \"ds_inst = flight_datasets[\\\"HVPS\\\"]\\nda_bin_minsize = ds_inst.measurement_channel_lower_limit\\nda_bin_maxsize = ds_inst.measurement_channel_upper_limit\\n\\nds_inst_bysize = ds_inst.swap_dims(index=\\\"measurement_channel_upper_limit\\\")\\nda_tot_particles_by_size = ds_inst_bysize.ambient_particle_number_per_channel.sum(\\n    dim=\\\"time\\\"\\n)\\n\\nfig, ax = plt.subplots(figsize=(10, 4))\\n\\nda_tot_particles_by_size.plot.step(ax=ax, where=\\\"post\\\")\\n\\nax_twinx = ax.twinx()\\nax_twinx.errorbar(\\n    x=da_bin_center,\\n    y=np.ones_like(da_bin_center),\\n    xerr=da_bin_width,\\n    label=instrument,\\n    capsize=10,\\n)\\nax_twinx.set_yticks([])\\nax_twinx.set_ylim(0, 1.2)\";\n",
       "                var nbb_formatted_code = \"ds_inst = flight_datasets[\\\"HVPS\\\"]\\nda_bin_minsize = ds_inst.measurement_channel_lower_limit\\nda_bin_maxsize = ds_inst.measurement_channel_upper_limit\\n\\nds_inst_bysize = ds_inst.swap_dims(index=\\\"measurement_channel_upper_limit\\\")\\nda_tot_particles_by_size = ds_inst_bysize.ambient_particle_number_per_channel.sum(\\n    dim=\\\"time\\\"\\n)\\n\\nfig, ax = plt.subplots(figsize=(10, 4))\\n\\nda_tot_particles_by_size.plot.step(ax=ax, where=\\\"post\\\")\\n\\nax_twinx = ax.twinx()\\nax_twinx.errorbar(\\n    x=da_bin_center,\\n    y=np.ones_like(da_bin_center),\\n    xerr=da_bin_width,\\n    label=instrument,\\n    capsize=10,\\n)\\nax_twinx.set_yticks([])\\nax_twinx.set_ylim(0, 1.2)\";\n",
       "                var nbb_cells = Jupyter.notebook.get_cells();\n",
       "                for (var i = 0; i < nbb_cells.length; ++i) {\n",
       "                    if (nbb_cells[i].input_prompt_number == nbb_cell_id) {\n",
       "                        if (nbb_cells[i].get_text() == nbb_unformatted_code) {\n",
       "                             nbb_cells[i].set_text(nbb_formatted_code);\n",
       "                        }\n",
       "                        break;\n",
       "                    }\n",
       "                }\n",
       "            }, 500);\n",
       "            "
      ],
      "text/plain": [
       "<IPython.core.display.Javascript object>"
      ]
     },
     "metadata": {},
     "output_type": "display_data"
    }
   ],
   "source": [
    "ds_inst = flight_datasets[\"HVPS\"]\n",
    "da_bin_minsize = ds_inst.measurement_channel_lower_limit\n",
    "da_bin_maxsize = ds_inst.measurement_channel_upper_limit\n",
    "\n",
    "ds_inst_bysize = ds_inst.swap_dims(index=\"measurement_channel_upper_limit\")\n",
    "da_tot_particles_by_size = ds_inst_bysize.ambient_particle_number_per_channel.sum(\n",
    "    dim=\"time\"\n",
    ")\n",
    "\n",
    "fig, ax = plt.subplots(figsize=(10, 4))\n",
    "\n",
    "da_tot_particles_by_size.plot.step(ax=ax, where=\"post\")\n",
    "\n",
    "ax_twinx = ax.twinx()\n",
    "ax_twinx.errorbar(\n",
    "    x=da_bin_center,\n",
    "    y=np.ones_like(da_bin_center),\n",
    "    xerr=da_bin_width,\n",
    "    label=instrument,\n",
    "    capsize=10,\n",
    ")\n",
    "ax_twinx.set_yticks([])\n",
    "ax_twinx.set_ylim(0, 1.2)"
   ]
  },
  {
   "cell_type": "code",
   "execution_count": 28,
   "id": "7da41a37",
   "metadata": {},
   "outputs": [
    {
     "name": "stdout",
     "output_type": "stream",
     "text": [
      "dataset is missing `ambient_particle_number_per_channel` for instrument HVPS\n"
     ]
    },
    {
     "data": {
      "text/plain": [
       "(<Figure size 720x288 with 1 Axes>,\n",
       " <AxesSubplot:title={'center':'TO347 10/02/2020 12:49-16:37\\ndistribution of droplet-sizes per instrument during flight'}, xlabel='droplet size [um]', ylabel='PDF [1/um]'>)"
      ]
     },
     "execution_count": 28,
     "metadata": {},
     "output_type": "execute_result"
    },
    {
     "data": {
      "image/png": "[encoded data removed]",
      "text/plain": [
       "<Figure size 720x288 with 1 Axes>"
      ]
     },
     "metadata": {
      "needs_background": "light"
     },
     "output_type": "display_data"
    },
    {
     "data": {
      "application/javascript": [
       "\n",
       "            setTimeout(function() {\n",
       "                var nbb_cell_id = 28;\n",
       "                var nbb_unformatted_code = \"def plot_size_distributions(flight_datasets, normalized=True):\\n    fig, ax = plt.subplots(figsize=(10, 4))\\n\\n    ax.set_xscale(\\\"log\\\")\\n\\n    for i, instrument in enumerate(microphysics_instruments):\\n        if not instrument in flight_datasets:\\n            continue\\n        ds_inst = flight_datasets[instrument]\\n\\n        if \\\"ambient_particle_number_per_channel\\\" not in ds_inst.data_vars:\\n            print(\\n                f\\\"dataset is missing `ambient_particle_number_per_channel` for instrument {instrument}\\\"\\n            )\\n            continue\\n\\n        ds_inst_bysize = ds_inst.swap_dims(index=\\\"measurement_channel_upper_limit\\\")\\n        da_tot_particles_by_size = (\\n            ds_inst_bysize.ambient_particle_number_per_channel.sum(dim=\\\"time\\\")\\n        )\\n\\n        if not normalized:\\n            da_tot_particles_by_size.plot.step(ax=ax, where=\\\"post\\\", label=instrument)\\n\\n        else:\\n            da_tot_particles_normalized = (\\n                da_tot_particles_by_size / da_tot_particles_by_size.sum()\\n            )\\n\\n            da_tot_particles_normalized.attrs[\\\"units\\\"] = \\\"1/um\\\"\\n            da_tot_particles_normalized.attrs[\\\"long_name\\\"] = \\\"PDF\\\"\\n\\n            da_tot_particles_normalized.plot.step(ax=ax, where=\\\"post\\\", label=instrument)\\n\\n    ax.set_xlabel(f\\\"droplet size [um]\\\")\\n    ax.legend()\\n    DATETIME_FORMAT = \\\"%d/%m/%Y %H:%M\\\"\\n\\n    duration_str = (\\n        f\\\"{ds_inst.time.min().dt.strftime('%d/%m/%Y').data} \\\"\\n        f\\\"{ds_inst.time.min().dt.strftime('%H:%M').data}-{ds_inst.time.max().dt.strftime('%H:%M').data}\\\"\\n    )\\n\\n    ax.set_title(\\n        f\\\"TO{flight_number} {duration_str}\\\\ndistribution of droplet-sizes per instrument during flight\\\"\\n    )\\n\\n    return fig, ax\\n\\n\\nplot_size_distributions(flight_datasets)\";\n",
       "                var nbb_formatted_code = \"def plot_size_distributions(flight_datasets, normalized=True):\\n    fig, ax = plt.subplots(figsize=(10, 4))\\n\\n    ax.set_xscale(\\\"log\\\")\\n\\n    for i, instrument in enumerate(microphysics_instruments):\\n        if not instrument in flight_datasets:\\n            continue\\n        ds_inst = flight_datasets[instrument]\\n\\n        if \\\"ambient_particle_number_per_channel\\\" not in ds_inst.data_vars:\\n            print(\\n                f\\\"dataset is missing `ambient_particle_number_per_channel` for instrument {instrument}\\\"\\n            )\\n            continue\\n\\n        ds_inst_bysize = ds_inst.swap_dims(index=\\\"measurement_channel_upper_limit\\\")\\n        da_tot_particles_by_size = (\\n            ds_inst_bysize.ambient_particle_number_per_channel.sum(dim=\\\"time\\\")\\n        )\\n\\n        if not normalized:\\n            da_tot_particles_by_size.plot.step(ax=ax, where=\\\"post\\\", label=instrument)\\n\\n        else:\\n            da_tot_particles_normalized = (\\n                da_tot_particles_by_size / da_tot_particles_by_size.sum()\\n            )\\n\\n            da_tot_particles_normalized.attrs[\\\"units\\\"] = \\\"1/um\\\"\\n            da_tot_particles_normalized.attrs[\\\"long_name\\\"] = \\\"PDF\\\"\\n\\n            da_tot_particles_normalized.plot.step(ax=ax, where=\\\"post\\\", label=instrument)\\n\\n    ax.set_xlabel(f\\\"droplet size [um]\\\")\\n    ax.legend()\\n    DATETIME_FORMAT = \\\"%d/%m/%Y %H:%M\\\"\\n\\n    duration_str = (\\n        f\\\"{ds_inst.time.min().dt.strftime('%d/%m/%Y').data} \\\"\\n        f\\\"{ds_inst.time.min().dt.strftime('%H:%M').data}-{ds_inst.time.max().dt.strftime('%H:%M').data}\\\"\\n    )\\n\\n    ax.set_title(\\n        f\\\"TO{flight_number} {duration_str}\\\\ndistribution of droplet-sizes per instrument during flight\\\"\\n    )\\n\\n    return fig, ax\\n\\n\\nplot_size_distributions(flight_datasets)\";\n",
       "                var nbb_cells = Jupyter.notebook.get_cells();\n",
       "                for (var i = 0; i < nbb_cells.length; ++i) {\n",
       "                    if (nbb_cells[i].input_prompt_number == nbb_cell_id) {\n",
       "                        if (nbb_cells[i].get_text() == nbb_unformatted_code) {\n",
       "                             nbb_cells[i].set_text(nbb_formatted_code);\n",
       "                        }\n",
       "                        break;\n",
       "                    }\n",
       "                }\n",
       "            }, 500);\n",
       "            "
      ],
      "text/plain": [
       "<IPython.core.display.Javascript object>"
      ]
     },
     "metadata": {},
     "output_type": "display_data"
    }
   ],
   "source": [
    "def plot_size_distributions(flight_datasets, normalized=True):\n",
    "    fig, ax = plt.subplots(figsize=(10, 4))\n",
    "\n",
    "    ax.set_xscale(\"log\")\n",
    "\n",
    "    for i, instrument in enumerate(microphysics_instruments):\n",
    "        if not instrument in flight_datasets:\n",
    "            continue\n",
    "        ds_inst = flight_datasets[instrument]\n",
    "\n",
    "        if \"ambient_particle_number_per_channel\" not in ds_inst.data_vars:\n",
    "            print(\n",
    "                f\"dataset is missing `ambient_particle_number_per_channel` for instrument {instrument}\"\n",
    "            )\n",
    "            continue\n",
    "\n",
    "        ds_inst_bysize = ds_inst.swap_dims(index=\"measurement_channel_upper_limit\")\n",
    "        da_tot_particles_by_size = (\n",
    "            ds_inst_bysize.ambient_particle_number_per_channel.sum(dim=\"time\")\n",
    "        )\n",
    "\n",
    "        if not normalized:\n",
    "            da_tot_particles_by_size.plot.step(ax=ax, where=\"post\", label=instrument)\n",
    "\n",
    "        else:\n",
    "            da_tot_particles_normalized = (\n",
    "                da_tot_particles_by_size / da_tot_particles_by_size.sum()\n",
    "            )\n",
    "\n",
    "            da_tot_particles_normalized.attrs[\"units\"] = \"1/um\"\n",
    "            da_tot_particles_normalized.attrs[\"long_name\"] = \"PDF\"\n",
    "\n",
    "            da_tot_particles_normalized.plot.step(ax=ax, where=\"post\", label=instrument)\n",
    "\n",
    "    ax.set_xlabel(f\"droplet size [um]\")\n",
    "    ax.legend()\n",
    "    DATETIME_FORMAT = \"%d/%m/%Y %H:%M\"\n",
    "\n",
    "    duration_str = (\n",
    "        f\"{ds_inst.time.min().dt.strftime('%d/%m/%Y').data} \"\n",
    "        f\"{ds_inst.time.min().dt.strftime('%H:%M').data}-{ds_inst.time.max().dt.strftime('%H:%M').data}\"\n",
    "    )\n",
    "\n",
    "    ax.set_title(\n",
    "        f\"TO{flight_number} {duration_str}\\ndistribution of droplet-sizes per instrument during flight\"\n",
    "    )\n",
    "\n",
    "    return fig, ax\n",
    "\n",
    "\n",
    "plot_size_distributions(flight_datasets)"
   ]
  },
  {
   "cell_type": "markdown",
   "id": "033d27d2",
   "metadata": {},
   "source": [
    "Now let's process all flights!"
   ]
  },
  {
   "cell_type": "markdown",
   "id": "4239a0a3",
   "metadata": {},
   "source": [
    "# Droplet size as a function of height"
   ]
  },
  {
   "cell_type": "code",
   "execution_count": 36,
   "id": "20a14591",
   "metadata": {},
   "outputs": [
    {
     "data": {
      "text/plain": [
       "dict_keys(['CDP', 'FFSSP', '2DS', 'HVPS', 'MASIN'])"
      ]
     },
     "execution_count": 36,
     "metadata": {},
     "output_type": "execute_result"
    },
    {
     "data": {
      "application/javascript": [
       "\n",
       "            setTimeout(function() {\n",
       "                var nbb_cell_id = 36;\n",
       "                var nbb_unformatted_code = \"# pick a flight for which we know there is data for all instruments\\nflight_number = 341\\n\\nflight_datasets = get_available_dataset_for_flight(\\n    flight_number,\\n    instruments=microphysics_instruments\\n    + [\\n        \\\"MASIN\\\",\\n    ],\\n)\\nflight_datasets.keys()\";\n",
       "                var nbb_formatted_code = \"# pick a flight for which we know there is data for all instruments\\nflight_number = 341\\n\\nflight_datasets = get_available_dataset_for_flight(\\n    flight_number,\\n    instruments=microphysics_instruments\\n    + [\\n        \\\"MASIN\\\",\\n    ],\\n)\\nflight_datasets.keys()\";\n",
       "                var nbb_cells = Jupyter.notebook.get_cells();\n",
       "                for (var i = 0; i < nbb_cells.length; ++i) {\n",
       "                    if (nbb_cells[i].input_prompt_number == nbb_cell_id) {\n",
       "                        if (nbb_cells[i].get_text() == nbb_unformatted_code) {\n",
       "                             nbb_cells[i].set_text(nbb_formatted_code);\n",
       "                        }\n",
       "                        break;\n",
       "                    }\n",
       "                }\n",
       "            }, 500);\n",
       "            "
      ],
      "text/plain": [
       "<IPython.core.display.Javascript object>"
      ]
     },
     "metadata": {},
     "output_type": "display_data"
    }
   ],
   "source": [
    "# pick a flight for which we know there is data for all instruments\n",
    "flight_number = 341\n",
    "\n",
    "flight_datasets = get_available_dataset_for_flight(\n",
    "    flight_number,\n",
    "    instruments=microphysics_instruments\n",
    "    + [\n",
    "        \"MASIN\",\n",
    "    ],\n",
    ")\n",
    "flight_datasets.keys()"
   ]
  },
  {
   "cell_type": "code",
   "execution_count": 37,
   "id": "ebccb673",
   "metadata": {},
   "outputs": [
    {
     "data": {
      "application/javascript": [
       "\n",
       "            setTimeout(function() {\n",
       "                var nbb_cell_id = 37;\n",
       "                var nbb_unformatted_code = \"ds_cdp = flight_datasets[\\\"CDP\\\"]\\nds_masin = flight_datasets[\\\"MASIN\\\"]\";\n",
       "                var nbb_formatted_code = \"ds_cdp = flight_datasets[\\\"CDP\\\"]\\nds_masin = flight_datasets[\\\"MASIN\\\"]\";\n",
       "                var nbb_cells = Jupyter.notebook.get_cells();\n",
       "                for (var i = 0; i < nbb_cells.length; ++i) {\n",
       "                    if (nbb_cells[i].input_prompt_number == nbb_cell_id) {\n",
       "                        if (nbb_cells[i].get_text() == nbb_unformatted_code) {\n",
       "                             nbb_cells[i].set_text(nbb_formatted_code);\n",
       "                        }\n",
       "                        break;\n",
       "                    }\n",
       "                }\n",
       "            }, 500);\n",
       "            "
      ],
      "text/plain": [
       "<IPython.core.display.Javascript object>"
      ]
     },
     "metadata": {},
     "output_type": "display_data"
    }
   ],
   "source": [
    "ds_cdp = flight_datasets[\"CDP\"]\n",
    "ds_masin = flight_datasets[\"MASIN\"]"
   ]
  },
  {
   "cell_type": "code",
   "execution_count": 50,
   "id": "cd60416a",
   "metadata": {},
   "outputs": [
    {
     "data": {
      "text/plain": [
       "[<matplotlib.lines.Line2D at 0x7f4e3c0f22b0>]"
      ]
     },
     "execution_count": 50,
     "metadata": {},
     "output_type": "execute_result"
    },
    {
     "data": {
      "image/png": "[encoded data removed]",
      "text/plain": [
       "<Figure size 432x288 with 1 Axes>"
      ]
     },
     "metadata": {
      "needs_background": "light"
     },
     "output_type": "display_data"
    },
    {
     "data": {
      "application/javascript": [
       "\n",
       "            setTimeout(function() {\n",
       "                var nbb_cell_id = 50;\n",
       "                var nbb_unformatted_code = \"da_masin_alt_interpolated = ds_masin.interp_like(ds_cdp, method=\\\"nearest\\\").ALT_OXTS\\nda_masin_alt_interpolated.plot()\";\n",
       "                var nbb_formatted_code = \"da_masin_alt_interpolated = ds_masin.interp_like(ds_cdp, method=\\\"nearest\\\").ALT_OXTS\\nda_masin_alt_interpolated.plot()\";\n",
       "                var nbb_cells = Jupyter.notebook.get_cells();\n",
       "                for (var i = 0; i < nbb_cells.length; ++i) {\n",
       "                    if (nbb_cells[i].input_prompt_number == nbb_cell_id) {\n",
       "                        if (nbb_cells[i].get_text() == nbb_unformatted_code) {\n",
       "                             nbb_cells[i].set_text(nbb_formatted_code);\n",
       "                        }\n",
       "                        break;\n",
       "                    }\n",
       "                }\n",
       "            }, 500);\n",
       "            "
      ],
      "text/plain": [
       "<IPython.core.display.Javascript object>"
      ]
     },
     "metadata": {},
     "output_type": "display_data"
    }
   ],
   "source": [
    "da_masin_alt_interpolated = ds_masin.interp_like(ds_cdp, method=\"nearest\").ALT_OXTS\n",
    "da_masin_alt_interpolated.plot()"
   ]
  },
  {
   "cell_type": "code",
   "execution_count": 51,
   "id": "6156a4c6",
   "metadata": {},
   "outputs": [
    {
     "data": {
      "application/javascript": [
       "\n",
       "            setTimeout(function() {\n",
       "                var nbb_cell_id = 51;\n",
       "                var nbb_unformatted_code = \"ds_cdp[\\\"alt\\\"] = da_masin_alt_interpolated\";\n",
       "                var nbb_formatted_code = \"ds_cdp[\\\"alt\\\"] = da_masin_alt_interpolated\";\n",
       "                var nbb_cells = Jupyter.notebook.get_cells();\n",
       "                for (var i = 0; i < nbb_cells.length; ++i) {\n",
       "                    if (nbb_cells[i].input_prompt_number == nbb_cell_id) {\n",
       "                        if (nbb_cells[i].get_text() == nbb_unformatted_code) {\n",
       "                             nbb_cells[i].set_text(nbb_formatted_code);\n",
       "                        }\n",
       "                        break;\n",
       "                    }\n",
       "                }\n",
       "            }, 500);\n",
       "            "
      ],
      "text/plain": [
       "<IPython.core.display.Javascript object>"
      ]
     },
     "metadata": {},
     "output_type": "display_data"
    }
   ],
   "source": [
    "ds_cdp[\"alt\"] = da_masin_alt_interpolated"
   ]
  },
  {
   "cell_type": "code",
   "execution_count": 75,
   "id": "79097f72",
   "metadata": {},
   "outputs": [
    {
     "data": {
      "text/plain": [
       "<matplotlib.collections.QuadMesh at 0x7f4e2ece4640>"
      ]
     },
     "execution_count": 75,
     "metadata": {},
     "output_type": "execute_result"
    },
    {
     "data": {
      "image/png": "[encoded data removed]",
      "text/plain": [
       "<Figure size 432x288 with 2 Axes>"
      ]
     },
     "metadata": {
      "needs_background": "light"
     },
     "output_type": "display_data"
    },
    {
     "data": {
      "application/javascript": [
       "\n",
       "            setTimeout(function() {\n",
       "                var nbb_cell_id = 75;\n",
       "                var nbb_unformatted_code = \"dz_bin = 250\\nbins = np.arange(0, ds_cdp.alt.max(), dz_bin)\\n\\nda_tot_n_droplets_by_height = (\\n    ds_cdp.swap_dims(index=\\\"measurement_channel_upper_limit\\\")\\n    .groupby_bins(ds_cdp.alt, bins=bins)\\n    .sum()\\n).ambient_particle_diameter\\n\\nda_tot_n_droplets_by_height.alt_bins.attrs[\\\"units\\\"] = ds_cdp.alt.units.strip()\\nda_tot_n_droplets_by_height.alt_bins.attrs[\\\"long_name\\\"] = \\\"altitude\\\"\\nda_tot_n_droplets_by_height.attrs[\\\"units\\\"] = \\\"1\\\"\\nda_tot_n_droplets_by_height.attrs[\\\"long_name\\\"] = \\\"number of particles\\\"\\nda_tot_n_droplets_by_height.plot(y=\\\"alt_bins\\\")\";\n",
       "                var nbb_formatted_code = \"dz_bin = 250\\nbins = np.arange(0, ds_cdp.alt.max(), dz_bin)\\n\\nda_tot_n_droplets_by_height = (\\n    ds_cdp.swap_dims(index=\\\"measurement_channel_upper_limit\\\")\\n    .groupby_bins(ds_cdp.alt, bins=bins)\\n    .sum()\\n).ambient_particle_diameter\\n\\nda_tot_n_droplets_by_height.alt_bins.attrs[\\\"units\\\"] = ds_cdp.alt.units.strip()\\nda_tot_n_droplets_by_height.alt_bins.attrs[\\\"long_name\\\"] = \\\"altitude\\\"\\nda_tot_n_droplets_by_height.attrs[\\\"units\\\"] = \\\"1\\\"\\nda_tot_n_droplets_by_height.attrs[\\\"long_name\\\"] = \\\"number of particles\\\"\\nda_tot_n_droplets_by_height.plot(y=\\\"alt_bins\\\")\";\n",
       "                var nbb_cells = Jupyter.notebook.get_cells();\n",
       "                for (var i = 0; i < nbb_cells.length; ++i) {\n",
       "                    if (nbb_cells[i].input_prompt_number == nbb_cell_id) {\n",
       "                        if (nbb_cells[i].get_text() == nbb_unformatted_code) {\n",
       "                             nbb_cells[i].set_text(nbb_formatted_code);\n",
       "                        }\n",
       "                        break;\n",
       "                    }\n",
       "                }\n",
       "            }, 500);\n",
       "            "
      ],
      "text/plain": [
       "<IPython.core.display.Javascript object>"
      ]
     },
     "metadata": {},
     "output_type": "display_data"
    }
   ],
   "source": [
    "dz_bin = 250\n",
    "bins = np.arange(0, ds_cdp.alt.max(), dz_bin)\n",
    "\n",
    "da_tot_n_droplets_by_height = (\n",
    "    ds_cdp.swap_dims(index=\"measurement_channel_upper_limit\")\n",
    "    .groupby_bins(ds_cdp.alt, bins=bins)\n",
    "    .sum()\n",
    ").ambient_particle_diameter\n",
    "\n",
    "da_tot_n_droplets_by_height.alt_bins.attrs[\"units\"] = ds_cdp.alt.units.strip()\n",
    "da_tot_n_droplets_by_height.alt_bins.attrs[\"long_name\"] = \"altitude\"\n",
    "da_tot_n_droplets_by_height.attrs[\"units\"] = \"1\"\n",
    "da_tot_n_droplets_by_height.attrs[\"long_name\"] = \"number of particles\"\n",
    "da_tot_n_droplets_by_height.plot(y=\"alt_bins\")"
   ]
  },
  {
   "cell_type": "code",
   "execution_count": 89,
   "id": "6a753e6a",
   "metadata": {},
   "outputs": [
    {
     "data": {
      "image/png": "[encoded data removed]",
      "text/plain": [
       "<Figure size 432x288 with 2 Axes>"
      ]
     },
     "metadata": {
      "needs_background": "light"
     },
     "output_type": "display_data"
    },
    {
     "data": {
      "application/javascript": [
       "\n",
       "            setTimeout(function() {\n",
       "                var nbb_cell_id = 89;\n",
       "                var nbb_unformatted_code = \"def plot_size_dist_with_height(flight_datasets, instrument, ax=None):\\n    if ax is None:\\n        fig, ax = plt.subplots()\\n\\n    ds_mphys = flight_datasets[instrument]\\n    ds_masin = flight_datasets[\\\"MASIN\\\"]\\n\\n    da_masin_alt_interpolated = ds_masin.interp_like(\\n        ds_mphys, method=\\\"nearest\\\"\\n    ).ALT_OXTS\\n    ds_mphys[\\\"alt\\\"] = da_masin_alt_interpolated\\n\\n    dz_bin = 250\\n    bins = np.arange(0, ds_mphys.alt.max(), dz_bin)\\n\\n    da_tot_n_droplets_by_height = (\\n        ds_mphys.swap_dims(index=\\\"measurement_channel_upper_limit\\\")\\n        .groupby_bins(ds_mphys.alt, bins=bins)\\n        .sum()\\n    ).ambient_particle_diameter\\n\\n    da_tot_n_droplets_by_height.alt_bins.attrs[\\\"units\\\"] = ds_mphys.alt.units.strip()\\n    da_tot_n_droplets_by_height.alt_bins.attrs[\\\"long_name\\\"] = \\\"altitude\\\"\\n    da_tot_n_droplets_by_height.attrs[\\\"units\\\"] = \\\"1\\\"\\n    da_tot_n_droplets_by_height.attrs[\\\"long_name\\\"] = \\\"number of droplets\\\"\\n    da_tot_n_droplets_by_height.plot(y=\\\"alt_bins\\\", ax=ax)\\n    ax.set_title(instrument)\\n\\n\\nplot_size_dist_with_height(flight_datasets=flight_datasets, instrument=\\\"HVPS\\\")\";\n",
       "                var nbb_formatted_code = \"def plot_size_dist_with_height(flight_datasets, instrument, ax=None):\\n    if ax is None:\\n        fig, ax = plt.subplots()\\n\\n    ds_mphys = flight_datasets[instrument]\\n    ds_masin = flight_datasets[\\\"MASIN\\\"]\\n\\n    da_masin_alt_interpolated = ds_masin.interp_like(\\n        ds_mphys, method=\\\"nearest\\\"\\n    ).ALT_OXTS\\n    ds_mphys[\\\"alt\\\"] = da_masin_alt_interpolated\\n\\n    dz_bin = 250\\n    bins = np.arange(0, ds_mphys.alt.max(), dz_bin)\\n\\n    da_tot_n_droplets_by_height = (\\n        ds_mphys.swap_dims(index=\\\"measurement_channel_upper_limit\\\")\\n        .groupby_bins(ds_mphys.alt, bins=bins)\\n        .sum()\\n    ).ambient_particle_diameter\\n\\n    da_tot_n_droplets_by_height.alt_bins.attrs[\\\"units\\\"] = ds_mphys.alt.units.strip()\\n    da_tot_n_droplets_by_height.alt_bins.attrs[\\\"long_name\\\"] = \\\"altitude\\\"\\n    da_tot_n_droplets_by_height.attrs[\\\"units\\\"] = \\\"1\\\"\\n    da_tot_n_droplets_by_height.attrs[\\\"long_name\\\"] = \\\"number of droplets\\\"\\n    da_tot_n_droplets_by_height.plot(y=\\\"alt_bins\\\", ax=ax)\\n    ax.set_title(instrument)\\n\\n\\nplot_size_dist_with_height(flight_datasets=flight_datasets, instrument=\\\"HVPS\\\")\";\n",
       "                var nbb_cells = Jupyter.notebook.get_cells();\n",
       "                for (var i = 0; i < nbb_cells.length; ++i) {\n",
       "                    if (nbb_cells[i].input_prompt_number == nbb_cell_id) {\n",
       "                        if (nbb_cells[i].get_text() == nbb_unformatted_code) {\n",
       "                             nbb_cells[i].set_text(nbb_formatted_code);\n",
       "                        }\n",
       "                        break;\n",
       "                    }\n",
       "                }\n",
       "            }, 500);\n",
       "            "
      ],
      "text/plain": [
       "<IPython.core.display.Javascript object>"
      ]
     },
     "metadata": {},
     "output_type": "display_data"
    }
   ],
   "source": [
    "def plot_size_dist_with_height(flight_datasets, instrument, ax=None):\n",
    "    if ax is None:\n",
    "        fig, ax = plt.subplots()\n",
    "\n",
    "    ds_mphys = flight_datasets[instrument]\n",
    "    ds_masin = flight_datasets[\"MASIN\"]\n",
    "\n",
    "    da_masin_alt_interpolated = ds_masin.interp_like(\n",
    "        ds_mphys, method=\"nearest\"\n",
    "    ).ALT_OXTS\n",
    "    ds_mphys[\"alt\"] = da_masin_alt_interpolated\n",
    "\n",
    "    dz_bin = 250\n",
    "    bins = np.arange(0, ds_mphys.alt.max(), dz_bin)\n",
    "\n",
    "    da_tot_n_droplets_by_height = (\n",
    "        ds_mphys.swap_dims(index=\"measurement_channel_upper_limit\")\n",
    "        .groupby_bins(ds_mphys.alt, bins=bins)\n",
    "        .sum()\n",
    "    ).ambient_particle_diameter\n",
    "\n",
    "    da_tot_n_droplets_by_height.alt_bins.attrs[\"units\"] = ds_mphys.alt.units.strip()\n",
    "    da_tot_n_droplets_by_height.alt_bins.attrs[\"long_name\"] = \"altitude\"\n",
    "    da_tot_n_droplets_by_height.attrs[\"units\"] = \"1\"\n",
    "    da_tot_n_droplets_by_height.attrs[\"long_name\"] = \"number of droplets\"\n",
    "    da_tot_n_droplets_by_height.plot(y=\"alt_bins\", ax=ax)\n",
    "    ax.set_title(instrument)\n",
    "\n",
    "\n",
    "plot_size_dist_with_height(flight_datasets=flight_datasets, instrument=\"HVPS\")"
   ]
  },
  {
   "cell_type": "code",
   "execution_count": 103,
   "id": "71171f9f",
   "metadata": {},
   "outputs": [
    {
     "data": {
      "text/plain": [
       "Text(0.5, 1.02, 'TO353')"
      ]
     },
     "execution_count": 103,
     "metadata": {},
     "output_type": "execute_result"
    },
    {
     "data": {
      "image/png": "[encoded data removed]",
      "text/plain": [
       "<Figure size 1008x288 with 8 Axes>"
      ]
     },
     "metadata": {
      "needs_background": "light"
     },
     "output_type": "display_data"
    },
    {
     "data": {
      "application/javascript": [
       "\n",
       "            setTimeout(function() {\n",
       "                var nbb_cell_id = 103;\n",
       "                var nbb_unformatted_code = \"flight_datasets = get_available_dataset_for_flight(\\n    342,\\n    instruments=microphysics_instruments\\n    + [\\n        \\\"MASIN\\\",\\n    ],\\n)\\n\\nfig, axes = plt.subplots(ncols=4, figsize=(14, 4))\\n\\nfor ax, instrument in zip(axes, microphysics_instruments):\\n    plot_size_dist_with_height(\\n        flight_datasets=flight_datasets, instrument=instrument, ax=ax\\n    )\\n\\nfig.tight_layout()\\nfig.suptitle(f\\\"TO{flight_number}\\\", y=1.02)\";\n",
       "                var nbb_formatted_code = \"flight_datasets = get_available_dataset_for_flight(\\n    342,\\n    instruments=microphysics_instruments\\n    + [\\n        \\\"MASIN\\\",\\n    ],\\n)\\n\\nfig, axes = plt.subplots(ncols=4, figsize=(14, 4))\\n\\nfor ax, instrument in zip(axes, microphysics_instruments):\\n    plot_size_dist_with_height(\\n        flight_datasets=flight_datasets, instrument=instrument, ax=ax\\n    )\\n\\nfig.tight_layout()\\nfig.suptitle(f\\\"TO{flight_number}\\\", y=1.02)\";\n",
       "                var nbb_cells = Jupyter.notebook.get_cells();\n",
       "                for (var i = 0; i < nbb_cells.length; ++i) {\n",
       "                    if (nbb_cells[i].input_prompt_number == nbb_cell_id) {\n",
       "                        if (nbb_cells[i].get_text() == nbb_unformatted_code) {\n",
       "                             nbb_cells[i].set_text(nbb_formatted_code);\n",
       "                        }\n",
       "                        break;\n",
       "                    }\n",
       "                }\n",
       "            }, 500);\n",
       "            "
      ],
      "text/plain": [
       "<IPython.core.display.Javascript object>"
      ]
     },
     "metadata": {},
     "output_type": "display_data"
    }
   ],
   "source": [
    "flight_datasets = get_available_dataset_for_flight(\n",
    "    342,\n",
    "    instruments=microphysics_instruments\n",
    "    + [\n",
    "        \"MASIN\",\n",
    "    ],\n",
    ")\n",
    "\n",
    "fig, axes = plt.subplots(ncols=4, figsize=(14, 4))\n",
    "\n",
    "for ax, instrument in zip(axes, microphysics_instruments):\n",
    "    plot_size_dist_with_height(\n",
    "        flight_datasets=flight_datasets, instrument=instrument, ax=ax\n",
    "    )\n",
    "\n",
    "fig.tight_layout()\n",
    "fig.suptitle(f\"TO{flight_number}\", y=1.02)"
   ]
  },
  {
   "cell_type": "markdown",
   "id": "2cc136c4",
   "metadata": {},
   "source": [
    "# Same instrument across entire campaign"
   ]
  },
  {
   "cell_type": "code",
   "execution_count": 102,
   "id": "ac6aa198",
   "metadata": {},
   "outputs": [
    {
     "data": {
      "application/vnd.jupyter.widget-view+json": {
       "model_id": "a405c494ba384c58b6aa2f08da865d70",
       "version_major": 2,
       "version_minor": 0
      },
      "text/plain": [
       "  0%|          | 0/24 [00:00<?, ?it/s]"
      ]
     },
     "metadata": {},
     "output_type": "display_data"
    },
    {
     "data": {
      "text/plain": [
       "Text(0.5, 1.0, 'CDP\\ndistribution of droplet-sizes per instrument per-flight')"
      ]
     },
     "execution_count": 102,
     "metadata": {},
     "output_type": "execute_result"
    },
    {
     "data": {
      "image/png": "[encoded data removed]",
      "text/plain": [
       "<Figure size 720x288 with 1 Axes>"
      ]
     },
     "metadata": {
      "needs_background": "light"
     },
     "output_type": "display_data"
    },
    {
     "data": {
      "application/javascript": [
       "\n",
       "            setTimeout(function() {\n",
       "                var nbb_cell_id = 102;\n",
       "                var nbb_unformatted_code = \"instrument = \\\"CDP\\\"\\nnormalized = \\\"30um_bin\\\"\\n\\nfig, ax = plt.subplots(figsize=(10, 4))\\n\\nax.set_xscale(\\\"log\\\")\\nax.set_yscale(\\\"log\\\")\\n\\nfor flight_number in tqdm(list(range(330, 354))):\\n    flight_datasets = get_available_dataset_for_flight(\\n        flight_number=flight_number, instruments=[instrument]\\n    )\\n\\n    if not instrument in flight_datasets:\\n        continue\\n    ds_inst = flight_datasets[instrument]\\n\\n    if \\\"ambient_particle_number_per_channel\\\" not in ds_inst.data_vars:\\n        print(\\n            f\\\"dataset is missing `ambient_particle_number_per_channel` for instrument {instrument}\\\"\\n        )\\n        continue\\n\\n    ds_inst_bysize = ds_inst.swap_dims(index=\\\"measurement_channel_upper_limit\\\")\\n    da_tot_particles_by_size = ds_inst_bysize.ambient_particle_number_per_channel.sum(\\n        dim=\\\"time\\\"\\n    )\\n\\n    label = f\\\"TO{flight_number} ({ds_inst.time.min().dt.strftime('%d/%m/%Y').data})\\\"\\n\\n    if not normalized:\\n        da_tot_particles_by_size.plot.step(ax=ax, where=\\\"post\\\", label=label)\\n\\n    elif normalized == \\\"30um_bin\\\":\\n        da_tot_particles_normalized = (\\n            da_tot_particles_by_size\\n            / da_tot_particles_by_size.sel(\\n                measurement_channel_upper_limit=30, method=\\\"nearest\\\"\\n            )\\n        )\\n        da_tot_particles_normalized.plot.step(ax=ax, where=\\\"post\\\", label=label)\\n\\n    else:\\n        da_tot_particles_normalized = (\\n            da_tot_particles_by_size / da_tot_particles_by_size.sum()\\n        )\\n\\n        da_tot_particles_normalized.attrs[\\\"units\\\"] = \\\"1/um\\\"\\n        da_tot_particles_normalized.attrs[\\\"long_name\\\"] = \\\"PDF\\\"\\n\\n        da_tot_particles_normalized.plot.step(ax=ax, where=\\\"post\\\", label=label)\\n\\nax.set_xlabel(f\\\"droplet size [um]\\\")\\nax.legend()\\n\\nax.axvline(30, color=\\\"grey\\\", linestyle=\\\"--\\\")\\n\\nax.set_title(f\\\"{instrument}\\\\ndistribution of droplet-sizes per instrument per-flight\\\")\";\n",
       "                var nbb_formatted_code = \"instrument = \\\"CDP\\\"\\nnormalized = \\\"30um_bin\\\"\\n\\nfig, ax = plt.subplots(figsize=(10, 4))\\n\\nax.set_xscale(\\\"log\\\")\\nax.set_yscale(\\\"log\\\")\\n\\nfor flight_number in tqdm(list(range(330, 354))):\\n    flight_datasets = get_available_dataset_for_flight(\\n        flight_number=flight_number, instruments=[instrument]\\n    )\\n\\n    if not instrument in flight_datasets:\\n        continue\\n    ds_inst = flight_datasets[instrument]\\n\\n    if \\\"ambient_particle_number_per_channel\\\" not in ds_inst.data_vars:\\n        print(\\n            f\\\"dataset is missing `ambient_particle_number_per_channel` for instrument {instrument}\\\"\\n        )\\n        continue\\n\\n    ds_inst_bysize = ds_inst.swap_dims(index=\\\"measurement_channel_upper_limit\\\")\\n    da_tot_particles_by_size = ds_inst_bysize.ambient_particle_number_per_channel.sum(\\n        dim=\\\"time\\\"\\n    )\\n\\n    label = f\\\"TO{flight_number} ({ds_inst.time.min().dt.strftime('%d/%m/%Y').data})\\\"\\n\\n    if not normalized:\\n        da_tot_particles_by_size.plot.step(ax=ax, where=\\\"post\\\", label=label)\\n\\n    elif normalized == \\\"30um_bin\\\":\\n        da_tot_particles_normalized = (\\n            da_tot_particles_by_size\\n            / da_tot_particles_by_size.sel(\\n                measurement_channel_upper_limit=30, method=\\\"nearest\\\"\\n            )\\n        )\\n        da_tot_particles_normalized.plot.step(ax=ax, where=\\\"post\\\", label=label)\\n\\n    else:\\n        da_tot_particles_normalized = (\\n            da_tot_particles_by_size / da_tot_particles_by_size.sum()\\n        )\\n\\n        da_tot_particles_normalized.attrs[\\\"units\\\"] = \\\"1/um\\\"\\n        da_tot_particles_normalized.attrs[\\\"long_name\\\"] = \\\"PDF\\\"\\n\\n        da_tot_particles_normalized.plot.step(ax=ax, where=\\\"post\\\", label=label)\\n\\nax.set_xlabel(f\\\"droplet size [um]\\\")\\nax.legend()\\n\\nax.axvline(30, color=\\\"grey\\\", linestyle=\\\"--\\\")\\n\\nax.set_title(f\\\"{instrument}\\\\ndistribution of droplet-sizes per instrument per-flight\\\")\";\n",
       "                var nbb_cells = Jupyter.notebook.get_cells();\n",
       "                for (var i = 0; i < nbb_cells.length; ++i) {\n",
       "                    if (nbb_cells[i].input_prompt_number == nbb_cell_id) {\n",
       "                        if (nbb_cells[i].get_text() == nbb_unformatted_code) {\n",
       "                             nbb_cells[i].set_text(nbb_formatted_code);\n",
       "                        }\n",
       "                        break;\n",
       "                    }\n",
       "                }\n",
       "            }, 500);\n",
       "            "
      ],
      "text/plain": [
       "<IPython.core.display.Javascript object>"
      ]
     },
     "metadata": {},
     "output_type": "display_data"
    }
   ],
   "source": [
    "instrument = \"CDP\"\n",
    "normalized = \"30um_bin\"\n",
    "\n",
    "fig, ax = plt.subplots(figsize=(10, 4))\n",
    "\n",
    "ax.set_xscale(\"log\")\n",
    "ax.set_yscale(\"log\")\n",
    "\n",
    "for flight_number in tqdm(list(range(330, 354))):\n",
    "    flight_datasets = get_available_dataset_for_flight(\n",
    "        flight_number=flight_number, instruments=[instrument]\n",
    "    )\n",
    "\n",
    "    if not instrument in flight_datasets:\n",
    "        continue\n",
    "    ds_inst = flight_datasets[instrument]\n",
    "\n",
    "    if \"ambient_particle_number_per_channel\" not in ds_inst.data_vars:\n",
    "        print(\n",
    "            f\"dataset is missing `ambient_particle_number_per_channel` for instrument {instrument}\"\n",
    "        )\n",
    "        continue\n",
    "\n",
    "    ds_inst_bysize = ds_inst.swap_dims(index=\"measurement_channel_upper_limit\")\n",
    "    da_tot_particles_by_size = ds_inst_bysize.ambient_particle_number_per_channel.sum(\n",
    "        dim=\"time\"\n",
    "    )\n",
    "\n",
    "    label = f\"TO{flight_number} ({ds_inst.time.min().dt.strftime('%d/%m/%Y').data})\"\n",
    "\n",
    "    if not normalized:\n",
    "        da_tot_particles_by_size.plot.step(ax=ax, where=\"post\", label=label)\n",
    "\n",
    "    elif normalized == \"30um_bin\":\n",
    "        da_tot_particles_normalized = (\n",
    "            da_tot_particles_by_size\n",
    "            / da_tot_particles_by_size.sel(\n",
    "                measurement_channel_upper_limit=30, method=\"nearest\"\n",
    "            )\n",
    "        )\n",
    "        da_tot_particles_normalized.plot.step(ax=ax, where=\"post\", label=label)\n",
    "\n",
    "    else:\n",
    "        da_tot_particles_normalized = (\n",
    "            da_tot_particles_by_size / da_tot_particles_by_size.sum()\n",
    "        )\n",
    "\n",
    "        da_tot_particles_normalized.attrs[\"units\"] = \"1/um\"\n",
    "        da_tot_particles_normalized.attrs[\"long_name\"] = \"PDF\"\n",
    "\n",
    "        da_tot_particles_normalized.plot.step(ax=ax, where=\"post\", label=label)\n",
    "\n",
    "ax.set_xlabel(f\"droplet size [um]\")\n",
    "ax.legend()\n",
    "\n",
    "ax.axvline(30, color=\"grey\", linestyle=\"--\")\n",
    "\n",
    "ax.set_title(f\"{instrument}\\ndistribution of droplet-sizes per instrument per-flight\")"
   ]
  },
  {
   "cell_type": "code",
   "execution_count": null,
   "id": "7fe90904",
   "metadata": {},
   "outputs": [],
   "source": []
  },
  {
   "cell_type": "markdown",
   "id": "55493cbf",
   "metadata": {},
   "source": [
    "# Creating plots for data paper"
   ]
  },
  {
   "cell_type": "markdown",
   "id": "58100534",
   "metadata": {},
   "source": [
    "## size-distrubutions per-flight\n",
    "Plot with size distribution for all available instruments for each flight"
   ]
  },
  {
   "cell_type": "code",
   "execution_count": 30,
   "id": "abf908cb",
   "metadata": {},
   "outputs": [
    {
     "data": {
      "application/vnd.jupyter.widget-view+json": {
       "model_id": "bbb6e28b8bdd43758e051c30f1dad337",
       "version_major": 2,
       "version_minor": 0
      },
      "text/plain": [
       "  0%|          | 0/24 [00:00<?, ?it/s]"
      ]
     },
     "metadata": {},
     "output_type": "display_data"
    },
    {
     "name": "stdout",
     "output_type": "stream",
     "text": [
      "No data found for flight 333\n",
      "No data found for flight 338\n",
      "No data found for flight 343\n",
      "dataset is missing `ambient_particle_number_per_channel` for instrument HVPS\n",
      "No data found for flight 348\n"
     ]
    },
    {
     "data": {
      "application/javascript": [
       "\n",
       "            setTimeout(function() {\n",
       "                var nbb_cell_id = 30;\n",
       "                var nbb_unformatted_code = \"path_plots = Path(\\\"plots/\\\")\\nnormalized = False\\n\\nfor flight_number in tqdm(list(range(330, 354))):\\n    fn_plot = (\\n        f\\\"TO{flight_number}.droplet_size_dist{normalized and '_normalized' or ''}.png\\\"\\n    )\\n    p_plot = path_plots / fn_plot\\n    if p_plot.exists():\\n        continue\\n\\n    flight_datasets = get_available_dataset_for_flight(flight_number=flight_number)\\n    if len(flight_datasets) == 0:\\n        print(f\\\"No data found for flight {flight_number}\\\")\\n        continue\\n\\n    fig, ax = plot_size_distributions(\\n        flight_datasets=flight_datasets, normalized=normalized\\n    )\\n    p_plot.parent.mkdir(exist_ok=True, parents=True)\\n    fig.savefig(p_plot)\\n    plt.close(fig)\\n    del fig\";\n",
       "                var nbb_formatted_code = \"path_plots = Path(\\\"plots/\\\")\\nnormalized = False\\n\\nfor flight_number in tqdm(list(range(330, 354))):\\n    fn_plot = (\\n        f\\\"TO{flight_number}.droplet_size_dist{normalized and '_normalized' or ''}.png\\\"\\n    )\\n    p_plot = path_plots / fn_plot\\n    if p_plot.exists():\\n        continue\\n\\n    flight_datasets = get_available_dataset_for_flight(flight_number=flight_number)\\n    if len(flight_datasets) == 0:\\n        print(f\\\"No data found for flight {flight_number}\\\")\\n        continue\\n\\n    fig, ax = plot_size_distributions(\\n        flight_datasets=flight_datasets, normalized=normalized\\n    )\\n    p_plot.parent.mkdir(exist_ok=True, parents=True)\\n    fig.savefig(p_plot)\\n    plt.close(fig)\\n    del fig\";\n",
       "                var nbb_cells = Jupyter.notebook.get_cells();\n",
       "                for (var i = 0; i < nbb_cells.length; ++i) {\n",
       "                    if (nbb_cells[i].input_prompt_number == nbb_cell_id) {\n",
       "                        if (nbb_cells[i].get_text() == nbb_unformatted_code) {\n",
       "                             nbb_cells[i].set_text(nbb_formatted_code);\n",
       "                        }\n",
       "                        break;\n",
       "                    }\n",
       "                }\n",
       "            }, 500);\n",
       "            "
      ],
      "text/plain": [
       "<IPython.core.display.Javascript object>"
      ]
     },
     "metadata": {},
     "output_type": "display_data"
    }
   ],
   "source": [
    "path_plots = Path(\"plots/\")\n",
    "normalized = False\n",
    "\n",
    "for flight_number in tqdm(list(range(330, 354))):\n",
    "    fn_plot = (\n",
    "        f\"TO{flight_number}.droplet_size_dist{normalized and '_normalized' or ''}.png\"\n",
    "    )\n",
    "    p_plot = path_plots / fn_plot\n",
    "    if p_plot.exists():\n",
    "        continue\n",
    "\n",
    "    flight_datasets = get_available_dataset_for_flight(flight_number=flight_number)\n",
    "    if len(flight_datasets) == 0:\n",
    "        print(f\"No data found for flight {flight_number}\")\n",
    "        continue\n",
    "\n",
    "    fig, ax = plot_size_distributions(\n",
    "        flight_datasets=flight_datasets, normalized=normalized\n",
    "    )\n",
    "    p_plot.parent.mkdir(exist_ok=True, parents=True)\n",
    "    fig.savefig(p_plot)\n",
    "    plt.close(fig)\n",
    "    del fig"
   ]
  },
  {
   "cell_type": "code",
   "execution_count": null,
   "id": "73163b58",
   "metadata": {},
   "outputs": [],
   "source": []
  }
 ],
 "metadata": {
  "kernelspec": {
   "display_name": "Python 3 (ipykernel)",
   "language": "python",
   "name": "python3"
  },
  "language_info": {
   "codemirror_mode": {
    "name": "ipython",
    "version": 3
   },
   "file_extension": ".py",
   "mimetype": "text/x-python",
   "name": "python",
   "nbconvert_exporter": "python",
   "pygments_lexer": "ipython3",
   "version": "3.8.12"
  }
 },
 "nbformat": 4,
 "nbformat_minor": 5
}
